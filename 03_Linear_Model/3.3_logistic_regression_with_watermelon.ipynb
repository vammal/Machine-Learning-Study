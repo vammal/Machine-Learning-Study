{
 "cells": [
  {
   "cell_type": "markdown",
   "metadata": {},
   "source": [
    "# 1. Import Package"
   ]
  },
  {
   "cell_type": "code",
   "execution_count": 1,
   "metadata": {},
   "outputs": [],
   "source": [
    "import pandas as pd\n",
    "import numpy as np"
   ]
  },
  {
   "cell_type": "markdown",
   "metadata": {},
   "source": [
    "# 2. Read Dataset"
   ]
  },
  {
   "cell_type": "code",
   "execution_count": 2,
   "metadata": {},
   "outputs": [
    {
     "data": {
      "text/plain": [
       "array([[ 0.   ,  0.697,  0.46 ,  1.   ],\n",
       "       [ 1.   ,  0.774,  0.376,  1.   ],\n",
       "       [ 2.   ,  0.634,  0.264,  1.   ],\n",
       "       [ 3.   ,  0.608,  0.318,  1.   ],\n",
       "       [ 4.   ,  0.556,  0.215,  1.   ],\n",
       "       [ 5.   ,  0.403,  0.237,  1.   ],\n",
       "       [ 6.   ,  0.481,  0.149,  1.   ],\n",
       "       [ 7.   ,  0.437,  0.221,  1.   ],\n",
       "       [ 8.   ,  0.666,  0.091,  0.   ],\n",
       "       [ 9.   ,  0.243,  0.267,  0.   ],\n",
       "       [10.   ,  0.245,  0.057,  0.   ],\n",
       "       [11.   ,  0.343,  0.099,  0.   ],\n",
       "       [12.   ,  0.639,  0.161,  0.   ],\n",
       "       [13.   ,  0.657,  0.198,  0.   ],\n",
       "       [14.   ,  0.36 ,  0.37 ,  0.   ],\n",
       "       [15.   ,  0.593,  0.042,  0.   ],\n",
       "       [16.   ,  0.719,  0.103,  0.   ]])"
      ]
     },
     "execution_count": 2,
     "metadata": {},
     "output_type": "execute_result"
    }
   ],
   "source": [
    "dataset = np.loadtxt('../dataset/watermelon_data_set_3_alpha.csv', delimiter='|')\n",
    "\n",
    "dataset"
   ]
  },
  {
   "cell_type": "code",
   "execution_count": 3,
   "metadata": {},
   "outputs": [
    {
     "data": {
      "text/plain": [
       "((17, 2), (17,))"
      ]
     },
     "execution_count": 3,
     "metadata": {},
     "output_type": "execute_result"
    }
   ],
   "source": [
    "x = dataset[:,1:3]\n",
    "y = dataset[:,3]\n",
    "\n",
    "x.shape, y.shape"
   ]
  },
  {
   "cell_type": "markdown",
   "metadata": {},
   "source": [
    "# 3. Logistic Regression"
   ]
  },
  {
   "cell_type": "code",
   "execution_count": 4,
   "metadata": {},
   "outputs": [],
   "source": [
    "# logistic Func\n",
    "def sigmoid(x):\n",
    "    return 1 / (1 + np.exp(-x))"
   ]
  },
  {
   "cell_type": "code",
   "execution_count": 5,
   "metadata": {},
   "outputs": [],
   "source": [
    "def likelihood(A, y):\n",
    "    \"\"\"\n",
    "    Params:\n",
    "        A : array - [probs of y_hat]\n",
    "        y : array - [values of y]\n",
    "    \"\"\"\n",
    "    likehood = np.sum(-y*A + np.log(1 + np.exp(A)))\n",
    "    return likehood"
   ]
  },
  {
   "cell_type": "code",
   "execution_count": 6,
   "metadata": {},
   "outputs": [],
   "source": [
    "def logistic_regression_gradient_descent(x, y, iteration, learning_rate):\n",
    "    \"\"\"\n",
    "    Params:\n",
    "        x : array - [values of x]\n",
    "        y : array - [values of y]\n",
    "        iteration : int - number of iteration\n",
    "        learning_rate : float - value of eta\n",
    "    \"\"\"\n",
    "    input_x = x.T\n",
    "    input_y = y.reshape(1, y.shape[0])\n",
    "    \n",
    "    m = input_x.shape[1]\n",
    "    w = np.zeros((input_x.shape[0], input_y.shape[0]))\n",
    "    b = 0\n",
    "    \n",
    "    costs = []\n",
    "    params = {}\n",
    "    \n",
    "    for i in range(iteration):\n",
    "        # forward propagation\n",
    "        A = sigmoid(np.dot(w.T, input_x) + b)\n",
    "        cost = likelihood(A, input_y)\n",
    "#         print(A.shape, input_y.shape, input_x.shape)\n",
    "\n",
    "        # backward propagation\n",
    "        dw = 1/m * np.dot(input_x, (A - input_y).T)\n",
    "        db = 1/m * np.sum(A - input_y)\n",
    "        \n",
    "        w -= (learning_rate * dw)\n",
    "        b -= (learning_rate * db)\n",
    "        \n",
    "        costs.append(cost)\n",
    "        \n",
    "        params['dw'] = dw\n",
    "        params['db'] = db\n",
    "        params['w'] = w\n",
    "        params['b'] = b\n",
    "    \n",
    "    return A, costs, params"
   ]
  },
  {
   "cell_type": "code",
   "execution_count": 7,
   "metadata": {},
   "outputs": [],
   "source": [
    "def newton(w, x, y):\n",
    "    n = x.shape[0]\n",
    "\n",
    "    d1 = np.matrix(np.zeros(n), dtype='float')\n",
    "    d2 = np.zeros((n, n), dtype='float')\n",
    "\n",
    "    for i in range(x.shape[1]):\n",
    "        x_hat = x.T[i]\n",
    "        Z = np.dot(w.T, x_hat.T)\n",
    "        \n",
    "        p = float(1 - 1./(1 + np.exp(Z)))\n",
    "        \n",
    "        d1 += - x_hat * (float(y.T[i]) - p)\n",
    "        d2 += np.matrix(x_hat).T * np.matrix(x_hat) * p * (1 - p)\n",
    "        \n",
    "    w -= np.dot(np.linalg.inv(d2), d1.T)\n",
    "    \n",
    "    return w"
   ]
  },
  {
   "cell_type": "code",
   "execution_count": 8,
   "metadata": {},
   "outputs": [],
   "source": [
    "def logistic_regression_newton(x, y, iteration):\n",
    "    \"\"\"\n",
    "    Params:\n",
    "        x : array - [values of x]\n",
    "        y : array - [values of y]\n",
    "        iteration : int - number of iteration\n",
    "        learning_rate : float - value of eta\n",
    "    \"\"\"\n",
    "    input_x = x.T\n",
    "    input_y = y.reshape(1, y.shape[0])\n",
    "    \n",
    "    m = input_x.shape[1]\n",
    "    w = np.zeros((input_x.shape[0], input_y.shape[0]))\n",
    "    b = 0\n",
    "    \n",
    "    costs = []\n",
    "    params = {}\n",
    "    \n",
    "    for i in range(iteration):\n",
    "        # forward propagation\n",
    "        A = sigmoid(np.dot(w.T, input_x))\n",
    "        cost = likelihood(A, input_y)\n",
    "\n",
    "        w = newton(w, input_x, input_y)\n",
    "        \n",
    "        costs.append(cost)\n",
    "        params['w'] = w\n",
    "        \n",
    "    return A, costs, params"
   ]
  },
  {
   "cell_type": "markdown",
   "metadata": {},
   "source": [
    "# 4. Predict"
   ]
  },
  {
   "cell_type": "code",
   "execution_count": 33,
   "metadata": {
    "scrolled": true
   },
   "outputs": [],
   "source": [
    "predict, costs, params = logistic_regression_gradient_descent(x, y, iteration=1000, learning_rate=0.1)"
   ]
  },
  {
   "cell_type": "code",
   "execution_count": 34,
   "metadata": {},
   "outputs": [
    {
     "data": {
      "text/plain": [
       "array([[0.66022428, 0.62973004, 0.53254994, 0.55913036, 0.4849282 ,\n",
       "        0.46319321, 0.42812033, 0.46130172, 0.4352763 , 0.4448041 ,\n",
       "        0.32522597, 0.36870256, 0.47123988, 0.49780861, 0.53394557,\n",
       "        0.39020518, 0.45450087]])"
      ]
     },
     "execution_count": 34,
     "metadata": {},
     "output_type": "execute_result"
    }
   ],
   "source": [
    "predict"
   ]
  },
  {
   "cell_type": "code",
   "execution_count": 35,
   "metadata": {
    "scrolled": true
   },
   "outputs": [
    {
     "data": {
      "text/plain": [
       "array([[1, 1, 1, 1, 0, 0, 0, 0, 0, 0, 0, 0, 0, 0, 1, 0, 0]])"
      ]
     },
     "execution_count": 35,
     "metadata": {},
     "output_type": "execute_result"
    }
   ],
   "source": [
    "np.where(predict > 0.5, 1, 0)"
   ]
  },
  {
   "cell_type": "code",
   "execution_count": 36,
   "metadata": {},
   "outputs": [
    {
     "data": {
      "text/plain": [
       "array([1, 1, 1, 1, 1, 1, 1, 1, 0, 0, 0, 0, 0, 0, 0, 0, 0])"
      ]
     },
     "execution_count": 36,
     "metadata": {},
     "output_type": "execute_result"
    }
   ],
   "source": [
    "y.astype(int)"
   ]
  },
  {
   "cell_type": "code",
   "execution_count": 37,
   "metadata": {},
   "outputs": [],
   "source": [
    "predict, costs, params = logistic_regression_newton(x, y, iteration=100)"
   ]
  },
  {
   "cell_type": "code",
   "execution_count": 38,
   "metadata": {},
   "outputs": [
    {
     "data": {
      "text/plain": [
       "array([[0.81601526, 0.6596925 , 0.55439553, 0.66520798, 0.51748936,\n",
       "        0.65657439, 0.44725959, 0.60774165, 0.24198664, 0.78651793,\n",
       "        0.4385844 , 0.44908532, 0.36512229, 0.41827642, 0.85117721,\n",
       "        0.21351284, 0.23189091]])"
      ]
     },
     "execution_count": 38,
     "metadata": {},
     "output_type": "execute_result"
    }
   ],
   "source": [
    "predict"
   ]
  },
  {
   "cell_type": "code",
   "execution_count": 39,
   "metadata": {},
   "outputs": [
    {
     "data": {
      "text/plain": [
       "array([[1, 1, 1, 1, 1, 1, 0, 1, 0, 1, 0, 0, 0, 0, 1, 0, 0]])"
      ]
     },
     "execution_count": 39,
     "metadata": {},
     "output_type": "execute_result"
    }
   ],
   "source": [
    "np.where(predict > 0.5, 1, 0)"
   ]
  },
  {
   "cell_type": "code",
   "execution_count": 40,
   "metadata": {},
   "outputs": [
    {
     "data": {
      "text/plain": [
       "array([1, 1, 1, 1, 1, 1, 1, 1, 0, 0, 0, 0, 0, 0, 0, 0, 0])"
      ]
     },
     "execution_count": 40,
     "metadata": {},
     "output_type": "execute_result"
    }
   ],
   "source": [
    "y.astype(int)"
   ]
  },
  {
   "cell_type": "code",
   "execution_count": null,
   "metadata": {},
   "outputs": [],
   "source": []
  }
 ],
 "metadata": {
  "kernelspec": {
   "display_name": "Python 3",
   "language": "python",
   "name": "python3"
  },
  "language_info": {
   "codemirror_mode": {
    "name": "ipython",
    "version": 3
   },
   "file_extension": ".py",
   "mimetype": "text/x-python",
   "name": "python",
   "nbconvert_exporter": "python",
   "pygments_lexer": "ipython3",
   "version": "3.7.3"
  }
 },
 "nbformat": 4,
 "nbformat_minor": 4
}
