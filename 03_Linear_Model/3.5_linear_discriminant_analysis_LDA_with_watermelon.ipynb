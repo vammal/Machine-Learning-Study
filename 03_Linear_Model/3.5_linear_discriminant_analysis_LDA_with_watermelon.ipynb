{
 "cells": [
  {
   "cell_type": "markdown",
   "metadata": {},
   "source": [
    "# 1. Import Package"
   ]
  },
  {
   "cell_type": "code",
   "execution_count": 1,
   "metadata": {},
   "outputs": [],
   "source": [
    "import numpy as np"
   ]
  },
  {
   "cell_type": "markdown",
   "metadata": {},
   "source": [
    "# 2. Read Dataset"
   ]
  },
  {
   "cell_type": "code",
   "execution_count": 2,
   "metadata": {},
   "outputs": [
    {
     "data": {
      "text/plain": [
       "array([[ 0.   ,  0.697,  0.46 ,  1.   ],\n",
       "       [ 1.   ,  0.774,  0.376,  1.   ],\n",
       "       [ 2.   ,  0.634,  0.264,  1.   ],\n",
       "       [ 3.   ,  0.608,  0.318,  1.   ],\n",
       "       [ 4.   ,  0.556,  0.215,  1.   ],\n",
       "       [ 5.   ,  0.403,  0.237,  1.   ],\n",
       "       [ 6.   ,  0.481,  0.149,  1.   ],\n",
       "       [ 7.   ,  0.437,  0.221,  1.   ],\n",
       "       [ 8.   ,  0.666,  0.091,  0.   ],\n",
       "       [ 9.   ,  0.243,  0.267,  0.   ],\n",
       "       [10.   ,  0.245,  0.057,  0.   ],\n",
       "       [11.   ,  0.343,  0.099,  0.   ],\n",
       "       [12.   ,  0.639,  0.161,  0.   ],\n",
       "       [13.   ,  0.657,  0.198,  0.   ],\n",
       "       [14.   ,  0.36 ,  0.37 ,  0.   ],\n",
       "       [15.   ,  0.593,  0.042,  0.   ],\n",
       "       [16.   ,  0.719,  0.103,  0.   ]])"
      ]
     },
     "execution_count": 2,
     "metadata": {},
     "output_type": "execute_result"
    }
   ],
   "source": [
    "dataset = np.loadtxt('../dataset/watermelon_data_set_3_alpha.csv', delimiter='|')\n",
    "\n",
    "dataset"
   ]
  },
  {
   "cell_type": "markdown",
   "metadata": {},
   "source": [
    "# 3. LDA"
   ]
  },
  {
   "cell_type": "code",
   "execution_count": 64,
   "metadata": {},
   "outputs": [],
   "source": [
    "def LDA(inputs):\n",
    "    \"\"\"\n",
    "    Params:\n",
    "        inputs : array - [values of x, y]\n",
    "    \"\"\"\n",
    "    m = inputs.shape[0]\n",
    "    input_x = inputs[:, 0:-1].T\n",
    "    y_col = inputs.shape[1] - 1\n",
    "    \n",
    "    u0 = inputs[inputs[:, y_col] == 0].mean(axis=0)[:y_col]\n",
    "    u1 = inputs[inputs[:, y_col] == 1].mean(axis=0)[:y_col]\n",
    "    \n",
    "    u0 = u0.reshape(u0.shape[0], 1)\n",
    "    u1 = u1.reshape(u1.shape[0], 1)\n",
    "    \n",
    "    # Scatter matrix\n",
    "    s_w = np.zeros((u0.shape[0], u0.shape[0]))\n",
    "    s_b = np.dot((u0 - u1), (u0 - u1).T)\n",
    "    \n",
    "    for i in range(m):\n",
    "        if inputs[i][-1] == 0:\n",
    "            ut = u0\n",
    "        else:\n",
    "            ut = u1\n",
    "        \n",
    "        xt = inputs[i,:-1]\n",
    "        xt = xt.reshape(xt.shape[0], 1)\n",
    "        s_w += np.dot((xt - ut), (xt - ut).T)\n",
    "#         print(xt)\n",
    "    \n",
    "    w = np.dot(np.linalg.inv(s_w), (u0 - u1))\n",
    "    Z = np.dot(w.T, input_x)\n",
    "#     print((u0 - u1).shape)\n",
    "    \n",
    "    return Z, w"
   ]
  },
  {
   "cell_type": "markdown",
   "metadata": {},
   "source": [
    "# 4. Predict"
   ]
  },
  {
   "cell_type": "code",
   "execution_count": 65,
   "metadata": {},
   "outputs": [],
   "source": [
    "predict, w = LDA(dataset[:, 1:])"
   ]
  },
  {
   "cell_type": "code",
   "execution_count": 66,
   "metadata": {},
   "outputs": [
    {
     "data": {
      "text/plain": [
       "(array([[-0.44975175, -0.39789997, -0.29279779, -0.32961409, -0.244333  ,\n",
       "         -0.23822553, -0.18350939, -0.23121446, -0.16724645, -0.23710573,\n",
       "         -0.07924161, -0.12539864, -0.21596487, -0.2464991 , -0.3320207 ,\n",
       "         -0.11952273, -0.18413951]]),\n",
       " array([[-0.14821353],\n",
       "        [-0.75314548]]))"
      ]
     },
     "execution_count": 66,
     "metadata": {},
     "output_type": "execute_result"
    }
   ],
   "source": [
    "predict, w"
   ]
  },
  {
   "cell_type": "code",
   "execution_count": null,
   "metadata": {},
   "outputs": [],
   "source": []
  }
 ],
 "metadata": {
  "kernelspec": {
   "display_name": "Python 3",
   "language": "python",
   "name": "python3"
  },
  "language_info": {
   "codemirror_mode": {
    "name": "ipython",
    "version": 3
   },
   "file_extension": ".py",
   "mimetype": "text/x-python",
   "name": "python",
   "nbconvert_exporter": "python",
   "pygments_lexer": "ipython3",
   "version": "3.7.3"
  }
 },
 "nbformat": 4,
 "nbformat_minor": 4
}
