{
 "cells": [
  {
   "cell_type": "markdown",
   "metadata": {},
   "source": [
    "### 의사결정 트리 학습법의 기본 알고리즘"
   ]
  },
  {
   "cell_type": "markdown",
   "metadata": {},
   "source": [
    "- 참고 사이트 : https://scikit-learn.org/stable/modules/generated/sklearn.tree.DecisionTreeClassifier.html  https://lovit.github.io/machine%20learning/2018/04/30/get_rules_from_trained_decision_tree/"
   ]
  },
  {
   "cell_type": "markdown",
   "metadata": {},
   "source": [
    "- 연습문제 코드 : https://github.com/Hatchin/Machine-Learning-Zhou_Zhihua/blob/master/DecisionTree/CART/4.4.ipynb"
   ]
  },
  {
   "cell_type": "markdown",
   "metadata": {},
   "source": [
    "sklearn은 CART를 사용함. 범주형 변수는 지원 X."
   ]
  },
  {
   "cell_type": "code",
   "execution_count": 1,
   "metadata": {},
   "outputs": [],
   "source": [
    "import pandas as pd\n",
    "import numpy as np\n",
    "from sklearn import tree\n",
    "import pydotplus \n",
    "from pprint import pprint\n",
    "from sklearn.externals.six import StringIO\n",
    "from IPython.core.display import Image\n",
    "from sklearn.model_selection import cross_val_score\n",
    "from sklearn.model_selection import train_test_split"
   ]
  },
  {
   "cell_type": "markdown",
   "metadata": {},
   "source": [
    "water_melon_data_2 = 표 4.1 (수박 데이터 세트 2.0)"
   ]
  },
  {
   "cell_type": "code",
   "execution_count": 2,
   "metadata": {},
   "outputs": [],
   "source": [
    "water_melon_data_2 = pd.read_pickle('water_melon_data_2')"
   ]
  },
  {
   "cell_type": "code",
   "execution_count": 3,
   "metadata": {},
   "outputs": [
    {
     "data": {
      "text/html": [
       "<div>\n",
       "<style scoped>\n",
       "    .dataframe tbody tr th:only-of-type {\n",
       "        vertical-align: middle;\n",
       "    }\n",
       "\n",
       "    .dataframe tbody tr th {\n",
       "        vertical-align: top;\n",
       "    }\n",
       "\n",
       "    .dataframe thead th {\n",
       "        text-align: right;\n",
       "    }\n",
       "</style>\n",
       "<table border=\"1\" class=\"dataframe\">\n",
       "  <thead>\n",
       "    <tr style=\"text-align: right;\">\n",
       "      <th></th>\n",
       "      <th>번호</th>\n",
       "      <th>색깔</th>\n",
       "      <th>꼭지모양</th>\n",
       "      <th>소리</th>\n",
       "      <th>줄무늬</th>\n",
       "      <th>배꼽 모양</th>\n",
       "      <th>감촉</th>\n",
       "      <th>잘 익은 수박</th>\n",
       "    </tr>\n",
       "  </thead>\n",
       "  <tbody>\n",
       "    <tr>\n",
       "      <th>0</th>\n",
       "      <td>1</td>\n",
       "      <td>청록색</td>\n",
       "      <td>말림</td>\n",
       "      <td>혼탁</td>\n",
       "      <td>선명함</td>\n",
       "      <td>움푹 패임</td>\n",
       "      <td>단단함</td>\n",
       "      <td>예</td>\n",
       "    </tr>\n",
       "    <tr>\n",
       "      <th>1</th>\n",
       "      <td>2</td>\n",
       "      <td>진녹색</td>\n",
       "      <td>말림</td>\n",
       "      <td>둔탁</td>\n",
       "      <td>선명함</td>\n",
       "      <td>움푹 패임</td>\n",
       "      <td>단단함</td>\n",
       "      <td>예</td>\n",
       "    </tr>\n",
       "    <tr>\n",
       "      <th>2</th>\n",
       "      <td>3</td>\n",
       "      <td>진녹색</td>\n",
       "      <td>말림</td>\n",
       "      <td>혼탁</td>\n",
       "      <td>선명함</td>\n",
       "      <td>움푹 패임</td>\n",
       "      <td>단단함</td>\n",
       "      <td>예</td>\n",
       "    </tr>\n",
       "    <tr>\n",
       "      <th>3</th>\n",
       "      <td>4</td>\n",
       "      <td>청록색</td>\n",
       "      <td>말림</td>\n",
       "      <td>둔탁</td>\n",
       "      <td>선명함</td>\n",
       "      <td>움푹 패임</td>\n",
       "      <td>단단함</td>\n",
       "      <td>예</td>\n",
       "    </tr>\n",
       "    <tr>\n",
       "      <th>4</th>\n",
       "      <td>5</td>\n",
       "      <td>연녹색</td>\n",
       "      <td>말림</td>\n",
       "      <td>혼탁</td>\n",
       "      <td>선명함</td>\n",
       "      <td>움푹 패임</td>\n",
       "      <td>단단함</td>\n",
       "      <td>예</td>\n",
       "    </tr>\n",
       "  </tbody>\n",
       "</table>\n",
       "</div>"
      ],
      "text/plain": [
       "  번호   색깔 꼭지모양  소리  줄무늬  배꼽 모양   감촉 잘 익은 수박\n",
       "0  1  청록색   말림  혼탁  선명함  움푹 패임  단단함       예\n",
       "1  2  진녹색   말림  둔탁  선명함  움푹 패임  단단함       예\n",
       "2  3  진녹색   말림  혼탁  선명함  움푹 패임  단단함       예\n",
       "3  4  청록색   말림  둔탁  선명함  움푹 패임  단단함       예\n",
       "4  5  연녹색   말림  혼탁  선명함  움푹 패임  단단함       예"
      ]
     },
     "execution_count": 3,
     "metadata": {},
     "output_type": "execute_result"
    }
   ],
   "source": [
    "water_melon_data_2.head()"
   ]
  },
  {
   "cell_type": "code",
   "execution_count": 4,
   "metadata": {},
   "outputs": [],
   "source": [
    "water_melon_data_2.columns = ['num','color','tap_shape','sound','stripe','navel_shape','texture','ripe']"
   ]
  },
  {
   "cell_type": "markdown",
   "metadata": {},
   "source": [
    "#### 정보 엔트로피(information entropy) : 샘플 집합의 순도를 측정하는데 자주 사용되는 지표"
   ]
  },
  {
   "cell_type": "code",
   "execution_count": 5,
   "metadata": {},
   "outputs": [],
   "source": [
    "def infoEntropy(column_name):\n",
    "    elements, counts = np.unique(column_name, return_counts = True)\n",
    "    info_entropy = -np.sum([(counts[i]/np.sum(counts)) * np.log2(counts[i]/np.sum(counts)) for i in range(len(elements))])\n",
    "    return info_entropy"
   ]
  },
  {
   "cell_type": "code",
   "execution_count": 6,
   "metadata": {},
   "outputs": [
    {
     "name": "stdout",
     "output_type": "stream",
     "text": [
      "Ent =  1.57986\n"
     ]
    }
   ],
   "source": [
    "print('Ent = ', round(infoEntropy(water_melon_data_2['color']), 5))"
   ]
  },
  {
   "cell_type": "markdown",
   "metadata": {},
   "source": [
    "#### 정보이득(information gain) \n",
    ": 분할전 Entropy와 분할 후 Entropy의 차이 (상위 노드의 엔트로피에서 하위 노드의 엔트로피를 뺀 값)"
   ]
  },
  {
   "cell_type": "code",
   "execution_count": 7,
   "metadata": {},
   "outputs": [],
   "source": [
    "def infoGain(data,column_name, target_column):\n",
    "    # 전체 엔트로피 계산\n",
    "    total_entropy = infoEntropy(data[target_column])\n",
    "    \n",
    "    # 가중 엔트로피 계산\n",
    "    vals,counts= np.unique(data[column_name],return_counts=True)\n",
    "    Weighted_Entropy = np.sum([(counts[i]/np.sum(counts))*\n",
    "                               infoEntropy(data.where(data[column_name]==vals[i]).dropna()[target_column])\n",
    "                               for i in range(len(vals))])\n",
    "    \n",
    "    # 정보이득 계산\n",
    "    Information_Gain = total_entropy - Weighted_Entropy\n",
    "    \n",
    "    return Information_Gain"
   ]
  },
  {
   "cell_type": "code",
   "execution_count": 8,
   "metadata": {},
   "outputs": [
    {
     "name": "stdout",
     "output_type": "stream",
     "text": [
      "InfoGain(tap_shape) =  0.14267 \n",
      "\n",
      "InfoGain(sound) =  0.14078 \n",
      "\n",
      "InfoGain(stripe) =  0.38059 \n",
      "\n",
      "InfoGain(navel_shape) =  0.28916 \n",
      "\n",
      "InfoGain(texture) =  0.00077 \n",
      "\n"
     ]
    }
   ],
   "source": [
    "print('InfoGain(tap_shape) = ', round(infoGain(water_melon_data_2, \"tap_shape\", \"ripe\"), 5), '\\n')\n",
    "print('InfoGain(sound) = ', round(infoGain(water_melon_data_2, \"sound\", \"ripe\"), 5),'\\n')\n",
    "print('InfoGain(stripe) = ', round(infoGain(water_melon_data_2, \"stripe\", \"ripe\"), 5), '\\n')\n",
    "print('InfoGain(navel_shape) = ', round(infoGain(water_melon_data_2, \"navel_shape\", \"ripe\"), 5), '\\n')\n",
    "print('InfoGain(texture) = ', round(infoGain(water_melon_data_2, \"texture\", \"ripe\"), 5), '\\n')"
   ]
  },
  {
   "cell_type": "markdown",
   "metadata": {},
   "source": [
    "#### 수박 데이터 세트 2.0에서 \"정보이득\"에 기반해 생성한 의사결정 트리"
   ]
  },
  {
   "cell_type": "markdown",
   "metadata": {},
   "source": [
    "#### - ID3 의사결정 트리"
   ]
  },
  {
   "cell_type": "code",
   "execution_count": 70,
   "metadata": {},
   "outputs": [],
   "source": [
    "def ID3(data,original_data,features,target_attribute_name,parent_node_class = None):\n",
    " \n",
    "    # 중지기준\n",
    "    # 1. 속성이 단일값을 가지는 경우, 해당 속성 반환\n",
    "    if len(np.unique(data[target_attribute_name])) <= 1:\n",
    "        return np.unique(data[target_attribute_name])[0]\n",
    " \n",
    "    # 2. 데이터가 없는 경우, 원본 데이터에서 최대값을 가지는 속성 반환\n",
    "    elif len(data)==0:\n",
    "        return np.unique(original_data[target_attribute_name])\\\n",
    "               [np.argmax(np.unique(original_data[target_attribute_name], return_counts=True)[1])]\n",
    " \n",
    "    # 3. 속성이 없는 경우, 부모 노드의 속성 반환\n",
    "    elif len(features) ==0:\n",
    "        return parent_node_class\n",
    "    # 트리 진행\n",
    "    else:\n",
    "        # 부모노드의 속성 정의\n",
    "        parent_node_class = np.unique(data[target_attribute_name])\\\n",
    "                            [np.argmax(np.unique(data[target_attribute_name], return_counts=True)[1])]\n",
    "\n",
    "\n",
    "        # 데이터를 분할할 속성 선택\n",
    "        item_values = [infoGain(data,feature,target_attribute_name) for feature in features]\n",
    "        best_feature_index = np.argmax(item_values)\n",
    "        best_feature = features[best_feature_index]\n",
    "        # 트리 구조 생성\n",
    "        tree = {best_feature:{}}\n",
    "        \n",
    "        # 최대 정보이득인 속성 제외\n",
    "        features = [i for i in features if i != best_feature]\n",
    "        \n",
    "        # 가지 성장\n",
    "        for value in np.unique(data[best_feature]):\n",
    "            # 데이터 분할. dropna(): 결측값을 가진 행, 열 제거\n",
    "            sub_data = data.where(data[best_feature] == value).dropna()\n",
    "            subtree = ID3(sub_data,data,features,target_attribute_name,parent_node_class)\n",
    "            tree[best_feature][value] = subtree\n",
    "            \n",
    "        return(tree)"
   ]
  },
  {
   "cell_type": "code",
   "execution_count": 71,
   "metadata": {},
   "outputs": [
    {
     "name": "stdout",
     "output_type": "stream",
     "text": [
      "{'stripe': {'선명함': {'tap_shape': {'곧음': '아니오',\n",
      "                                  '말림': '예',\n",
      "                                  '약간 말림': {'color': {'진녹색': {'texture': {'단단함': '예',\n",
      "                                                                          '물렁함': '아니오'}},\n",
      "                                                      '청록색': '예'}}}},\n",
      "            '약간 흐림': {'texture': {'단단함': '아니오', '물렁함': '예'}},\n",
      "            '흐림': '아니오'}}\n"
     ]
    }
   ],
   "source": [
    "tree = ID3(water_melon_data_2, water_melon_data_2, ['color','tap_shape','sound','stripe','navel_shape','texture'], \"ripe\")\n",
    "pprint(tree)"
   ]
  },
  {
   "cell_type": "code",
   "execution_count": 66,
   "metadata": {},
   "outputs": [
    {
     "name": "stdout",
     "output_type": "stream",
     "text": [
      "{'선명함': {'tap_shape': {'곧음': '아니오',\n",
      "                       '말림': '예',\n",
      "                       '약간 말림': {'color': {'진녹색': {'texture': {'단단함': '예',\n",
      "                                                               '물렁함': '아니오'}},\n",
      "                                           '청록색': '예'}}}},\n",
      " '약간 흐림': {'texture': {'단단함': '아니오', '물렁함': '예'}},\n",
      " '흐림': '아니오'}\n"
     ]
    }
   ],
   "source": [
    "pprint(tree['stripe'])"
   ]
  },
  {
   "cell_type": "markdown",
   "metadata": {},
   "source": [
    "#### 속성 a의 내재 값 (instrinsic value)"
   ]
  },
  {
   "cell_type": "code",
   "execution_count": 12,
   "metadata": {},
   "outputs": [],
   "source": [
    "def intrinsicValue(data,column_name, target_column):\n",
    "    vals,counts= np.unique(data[column_name],return_counts=True)\n",
    "    intrinsic_value = np.sum([(counts[i]/np.sum(counts)) * np.log2((counts[i]/np.sum(counts))) for i in range(len(vals))])\n",
    "    return intrinsic_value"
   ]
  },
  {
   "cell_type": "markdown",
   "metadata": {},
   "source": [
    "#### 정보 이득율"
   ]
  },
  {
   "cell_type": "code",
   "execution_count": 13,
   "metadata": {},
   "outputs": [],
   "source": [
    "def gainRatio(data,column_name, target_column):\n",
    "    gain_ratio = infoGain(data,column_name, target_column)/intrinsicValue(data,column_name, target_column)\n",
    "    return gain_ratio"
   ]
  },
  {
   "cell_type": "markdown",
   "metadata": {},
   "source": [
    "#### - C4.5 의사결정 트리"
   ]
  },
  {
   "cell_type": "code",
   "execution_count": 14,
   "metadata": {},
   "outputs": [],
   "source": [
    "def C4_5(data,originaldata,features,target_attribute_name,parent_node_class = None):\n",
    "    if len(np.unique(data[target_attribute_name])) <= 1:\n",
    "        return np.unique(data[target_attribute_name])[0]\n",
    " \n",
    "    elif len(data)==0:\n",
    "        return np.unique(originaldata[target_attribute_name])\\\n",
    "               [np.argmax(np.unique(originaldata[target_attribute_name], return_counts=True)[1])]\n",
    " \n",
    "    elif len(features) ==0:\n",
    "        return parent_node_class\n",
    " \n",
    "    else:\n",
    "        parent_node_class = np.unique(data[target_attribute_name])\\\n",
    "                            [np.argmax(np.unique(data[target_attribute_name], return_counts=True)[1])]\n",
    "        \n",
    "        item_values = [gainRatio(data,feature,target_attribute_name) for feature in features]\n",
    "        best_feature_index = np.argmax(item_values)\n",
    "        best_feature = features[best_feature_index]\n",
    "        \n",
    "        tree = {best_feature:{}}\n",
    "        \n",
    "        features = [i for i in features if i != best_feature]\n",
    "        \n",
    "        for value in np.unique(data[best_feature]):\n",
    "            sub_data = data.where(data[best_feature] == value).dropna()\n",
    "            \n",
    "            subtree = C4_5(sub_data,data,features,target_attribute_name,parent_node_class)\n",
    "            tree[best_feature][value] = subtree\n",
    "            \n",
    "        return(tree)"
   ]
  },
  {
   "cell_type": "code",
   "execution_count": 15,
   "metadata": {},
   "outputs": [
    {
     "name": "stderr",
     "output_type": "stream",
     "text": [
      "C:\\Users\\lalla\\Anaconda3\\lib\\site-packages\\ipykernel_launcher.py:2: RuntimeWarning: invalid value encountered in double_scalars\n",
      "  \n"
     ]
    },
    {
     "name": "stdout",
     "output_type": "stream",
     "text": [
      "{'texture': {'단단함': {'sound': {'둔탁': {'color': {'연녹색': '아니오',\n",
      "                                                '진녹색': {'tap_shape': {'말림': '예',\n",
      "                                                                      '약간 말림': '아니오'}},\n",
      "                                                '청록색': {'tap_shape': {'말림': {'stripe': {'선명함': '예',\n",
      "                                                                                        '약간 흐림': '아니오'}}}}}},\n",
      "                               '맑음': '아니오',\n",
      "                               '혼탁': {'tap_shape': {'말림': {'color': {'연녹색': {'stripe': {'선명함': '예',\n",
      "                                                                                        '흐림': '아니오'}},\n",
      "                                                                     '진녹색': '예',\n",
      "                                                                     '청록색': '예'}},\n",
      "                                                    '약간 말림': {'color': {'진녹색': '예',\n",
      "                                                                        '청록색': '아니오'}}}}}},\n",
      "             '물렁함': {'color': {'진녹색': {'tap_shape': {'약간 말림': {'sound': {'혼탁': {'navel_shape': {'약간 패임': {'stripe': {'선명함': '아니오',\n",
      "                                                                                                                     '약간 흐림': '예'}}}}}}}},\n",
      "                               '청록색': {'stripe': {'선명함': {'tap_shape': {'곧음': '아니오',\n",
      "                                                                        '약간 말림': '예'}}}}}}}}\n"
     ]
    }
   ],
   "source": [
    "tree = C4_5(water_melon_data_2, water_melon_data_2, ['color','tap_shape','sound','stripe','navel_shape','texture'], \"ripe\")\n",
    "pprint(tree)"
   ]
  },
  {
   "cell_type": "markdown",
   "metadata": {},
   "source": [
    "#### 지니 계수"
   ]
  },
  {
   "cell_type": "code",
   "execution_count": 16,
   "metadata": {},
   "outputs": [],
   "source": [
    "def gini(data,column_name, target_column):\n",
    "    elements, counts = np.unique(column_name, return_counts = True)\n",
    "    gini = 1- np.sum([(counts[i]/np.sum(counts))**2 for i in range(len(elements))])\n",
    "    return gini"
   ]
  },
  {
   "cell_type": "code",
   "execution_count": 17,
   "metadata": {},
   "outputs": [],
   "source": [
    "def giniIndex(data,column_name, target_column):\n",
    "    \n",
    "    vals,counts= np.unique(data[column_name],return_counts=True)\n",
    "    gini_index = np.sum([(counts[i]/np.sum(counts))*\n",
    "                               gini(data,column_name, target_column)\n",
    "                               for i in range(len(vals))]) \n",
    "    \n",
    "    return gini_index"
   ]
  },
  {
   "cell_type": "markdown",
   "metadata": {},
   "source": [
    "#### - CART 의사결정 트리"
   ]
  },
  {
   "cell_type": "markdown",
   "metadata": {},
   "source": [
    "집합 A 에서 분할 후 지니계수가 가장 작은 속성을 최적의 분할 속성으로 선택  "
   ]
  },
  {
   "cell_type": "code",
   "execution_count": 18,
   "metadata": {},
   "outputs": [],
   "source": [
    "def CART(data,originaldata,features,target_attribute_name,parent_node_class = None):\n",
    "  \n",
    "    if len(np.unique(data[target_attribute_name])) <= 1:\n",
    "        return np.unique(data[target_attribute_name])[0]\n",
    " \n",
    "    elif len(data)==0:\n",
    "        return np.unique(originaldata[target_attribute_name])\\\n",
    "               [np.argmax(np.unique(originaldata[target_attribute_name], return_counts=True)[1])]\n",
    " \n",
    "    elif len(features) ==0:\n",
    "        return parent_node_class\n",
    " \n",
    "    else:\n",
    "        parent_node_class = np.unique(data[target_attribute_name])\\\n",
    "                            [np.argmax(np.unique(data[target_attribute_name], return_counts=True)[1])]\n",
    "        \n",
    "        item_values = [giniIndex(data,feature,target_attribute_name) for feature in features]\n",
    "        best_feature_index = np.argmin(item_values)\n",
    "        best_feature = features[best_feature_index]\n",
    "        \n",
    "        tree = {best_feature:{}}\n",
    "        features = [i for i in features if i != best_feature]\n",
    "        \n",
    "        for value in np.unique(data[best_feature]):\n",
    "            sub_data = data.where(data[best_feature] == value).dropna()\n",
    "            subtree = CART(sub_data,data,features,target_attribute_name,parent_node_class)\n",
    "            tree[best_feature][value] = subtree\n",
    "            \n",
    "        return(tree)"
   ]
  },
  {
   "cell_type": "code",
   "execution_count": 19,
   "metadata": {},
   "outputs": [
    {
     "name": "stdout",
     "output_type": "stream",
     "text": [
      "{'color': {'연녹색': {'tap_shape': {'곧음': '아니오',\n",
      "                                 '말림': {'sound': {'혼탁': {'stripe': {'선명함': '예',\n",
      "                                                                    '흐림': '아니오'}}}},\n",
      "                                 '약간 말림': '아니오'}},\n",
      "           '진녹색': {'tap_shape': {'말림': '예',\n",
      "                                 '약간 말림': {'sound': {'둔탁': '아니오',\n",
      "                                                     '혼탁': {'stripe': {'선명함': {'navel_shape': {'약간 패임': {'texture': {'단단함': '예',\n",
      "                                                                                                                     '물렁함': '아니오'}}}},\n",
      "                                                                       '약간 흐림': '예'}}}}}},\n",
      "           '청록색': {'tap_shape': {'곧음': '아니오',\n",
      "                                 '말림': {'sound': {'둔탁': {'stripe': {'선명함': '예',\n",
      "                                                                    '약간 흐림': '아니오'}},\n",
      "                                                  '혼탁': '예'}},\n",
      "                                 '약간 말림': {'sound': {'혼탁': {'stripe': {'선명함': '예',\n",
      "                                                                       '약간 흐림': '아니오'}}}}}}}}\n"
     ]
    }
   ],
   "source": [
    "tree = CART(water_melon_data_2, water_melon_data_2, ['color','tap_shape','sound','stripe','navel_shape','texture'], \"ripe\")\n",
    "pprint(tree)"
   ]
  },
  {
   "cell_type": "markdown",
   "metadata": {},
   "source": [
    "#### 수박 데이터 3.0 α"
   ]
  },
  {
   "cell_type": "markdown",
   "metadata": {},
   "source": [
    "* sklearn DecisionTreeClassifier  \n",
    " 1) criterion : 분류 기준 {'gini', 'entropy'}, default = 'gini'  \n",
    " 2) splitter : 선택 전략 {'best', 'random'}, default = 'best'  \n",
    " 3) max_depth : decision tree의 깊이 지정, default = None  \n",
    " 4) min_samples_split : 최소 샘플 개수, default = 2  \n",
    " 5) min_samples_leaf : 최소 분류 수 (leaf 노드의 최소 샘플 수), default = 1  \n",
    " 6) max_features : 최대 피쳐 수\n",
    " 7) tree_: Tree \n",
    "DecisionTree default는 max_depth, min_sample_split 제한이 없어서 한 범주에 한 종류의 데이터가 남을 때까지 가지를 침"
   ]
  },
  {
   "cell_type": "code",
   "execution_count": 20,
   "metadata": {},
   "outputs": [],
   "source": [
    "density = [0.697,0.774,0.634,0.608,0.556,0.403,0.481,0.437,0.666,0.243,0.245,0.343,0.639,0.657,0.360,0.593,0.719]\n",
    "sweet = [0.460,0.376,0.264,0.318,0.215,0.237,0.149,0.211,0.091,0.267,0.057,0.099,0.161,0.198,0.370,0.042,0.103]\n",
    "\n",
    "water_melon_data_2['density']=density\n",
    "water_melon_data_2['sweet']=sweet"
   ]
  },
  {
   "cell_type": "code",
   "execution_count": 21,
   "metadata": {},
   "outputs": [],
   "source": [
    "water_melon_data_3 = water_melon_data_2[['ripe', 'density', 'sweet']]"
   ]
  },
  {
   "cell_type": "code",
   "execution_count": 22,
   "metadata": {},
   "outputs": [
    {
     "name": "stderr",
     "output_type": "stream",
     "text": [
      "C:\\Users\\lalla\\Anaconda3\\lib\\site-packages\\ipykernel_launcher.py:1: SettingWithCopyWarning: \n",
      "A value is trying to be set on a copy of a slice from a DataFrame.\n",
      "Try using .loc[row_indexer,col_indexer] = value instead\n",
      "\n",
      "See the caveats in the documentation: http://pandas.pydata.org/pandas-docs/stable/indexing.html#indexing-view-versus-copy\n",
      "  \"\"\"Entry point for launching an IPython kernel.\n"
     ]
    }
   ],
   "source": [
    "water_melon_data_3['ripe'] = water_melon_data_3['ripe'].replace({\"아니오\":0, \"예\":1})"
   ]
  },
  {
   "cell_type": "code",
   "execution_count": 23,
   "metadata": {},
   "outputs": [],
   "source": [
    "X = water_melon_data_3[['density', 'sweet']]\n",
    "Y = water_melon_data_3[['ripe']]"
   ]
  },
  {
   "cell_type": "code",
   "execution_count": 24,
   "metadata": {
    "scrolled": true
   },
   "outputs": [],
   "source": [
    "from sklearn import tree\n",
    "\n",
    "model = tree.DecisionTreeClassifier()\n",
    "model = tree.DecisionTreeClassifier(criterion = 'entropy')\n",
    "model = model.fit(X, Y)"
   ]
  },
  {
   "cell_type": "code",
   "execution_count": 25,
   "metadata": {
    "scrolled": true
   },
   "outputs": [
    {
     "data": {
      "text/plain": [
       "array([1], dtype=int64)"
      ]
     },
     "execution_count": 25,
     "metadata": {},
     "output_type": "execute_result"
    }
   ],
   "source": [
    "model.predict([['0.697','0.460']])"
   ]
  },
  {
   "cell_type": "markdown",
   "metadata": {},
   "source": [
    "그림 4.10"
   ]
  },
  {
   "cell_type": "code",
   "execution_count": 26,
   "metadata": {},
   "outputs": [],
   "source": [
    "n_nodes = model.tree_.node_count\n",
    "children_left = model.tree_.children_left\n",
    "children_right = model.tree_.children_right\n",
    "feature = model.tree_.feature\n",
    "threshold = model.tree_.threshold\n",
    "value = model.tree_.value"
   ]
  },
  {
   "cell_type": "markdown",
   "metadata": {},
   "source": [
    "- left_child, 노드의 왼쪽 자식 ID\n",
    "- right_child, 노드의 오른쪽 자식 ID\n",
    "- 노드 분할에 사용되는 feature\n",
    "- 각 마디에서 이용된 threshold\n",
    "- samples 의 개수는 value\n",
    "- 각 마디의 idx 는 만들어진 순서대로\n",
    "- children_left, children_right : leaf node 일 때 negative index -1\n",
    "- threshold, feature : negative index -2"
   ]
  },
  {
   "cell_type": "code",
   "execution_count": 27,
   "metadata": {},
   "outputs": [
    {
     "name": "stdout",
     "output_type": "stream",
     "text": [
      "9\n",
      "[ 1 -1  3 -1  5  6 -1 -1 -1]\n",
      "[ 2 -1  4 -1  8  7 -1 -1 -1]\n",
      "[ 1 -2  0 -2  1  1 -2 -2 -2]\n",
      "[ 0.126      -2.          0.38150001 -2.          0.2045      0.155\n",
      " -2.         -2.         -2.        ]\n"
     ]
    }
   ],
   "source": [
    "print(n_nodes)\n",
    "print(children_left)\n",
    "print(children_right)\n",
    "print(feature)\n",
    "print(threshold)"
   ]
  },
  {
   "cell_type": "code",
   "execution_count": 28,
   "metadata": {
    "scrolled": true
   },
   "outputs": [
    {
     "data": {
      "image/png": "[encoded data removed]",
      "text/plain": [
       "<IPython.core.display.Image object>"
      ]
     },
     "execution_count": 28,
     "metadata": {},
     "output_type": "execute_result"
    }
   ],
   "source": [
    "dot_data = StringIO()\n",
    "tree.export_graphviz(model, out_file=dot_data, feature_names = X.columns, )\n",
    "graph = pydotplus.pydotplus.graph_from_dot_data(dot_data.getvalue())\n",
    "graph.write_png(\"water_melon_data_3.png\")\n",
    "Image(filename='water_melon_data_3.png')"
   ]
  },
  {
   "cell_type": "markdown",
   "metadata": {},
   "source": [
    "### 가지치기 미수행, 사전 가지치기, 사후 가지치기 비교"
   ]
  },
  {
   "cell_type": "markdown",
   "metadata": {},
   "source": [
    "일반화 성능 향상 판단 방법 : 홀드아웃 세트\n",
    "훈련 데이터 : {1,2,3,6,7,10,14,15,16,17}\n",
    "/ 검정 세트 : {4,5,8,9,11,12,13}\n",
    "    \n",
    "    "
   ]
  },
  {
   "cell_type": "markdown",
   "metadata": {},
   "source": [
    "#### 가지치기 미수행"
   ]
  },
  {
   "cell_type": "code",
   "execution_count": 29,
   "metadata": {},
   "outputs": [],
   "source": [
    "from sklearn import tree"
   ]
  },
  {
   "cell_type": "code",
   "execution_count": 30,
   "metadata": {},
   "outputs": [],
   "source": [
    "train_set = water_melon_data_3.iloc[[0,1,2,5,6,9,13,14,15,16]]\n",
    "test_set = water_melon_data_3.iloc[[3,4,7,8,10,11,12]]"
   ]
  },
  {
   "cell_type": "code",
   "execution_count": 31,
   "metadata": {},
   "outputs": [],
   "source": [
    "X_train = train_set[['density', 'sweet']]\n",
    "y_train = train_set[['ripe']]\n",
    "\n",
    "X_test = train_set[['density', 'sweet']]\n",
    "y_test = train_set[['ripe']]"
   ]
  },
  {
   "cell_type": "code",
   "execution_count": 32,
   "metadata": {},
   "outputs": [],
   "source": [
    "model = tree.DecisionTreeClassifier(criterion = 'entropy', random_state=0)\n",
    "model = model.fit(X_train, y_train)"
   ]
  },
  {
   "cell_type": "code",
   "execution_count": 33,
   "metadata": {},
   "outputs": [
    {
     "name": "stdout",
     "output_type": "stream",
     "text": [
      "훈련 세트 정확도: 1.000\n",
      "테스트 세트 정확도: 1.000\n"
     ]
    }
   ],
   "source": [
    "print(\"훈련 세트 정확도: {:.3f}\".format(model.score(X_train, y_train)))\n",
    "print(\"테스트 세트 정확도: {:.3f}\".format(model.score(X_test, y_test)))"
   ]
  },
  {
   "cell_type": "markdown",
   "metadata": {},
   "source": [
    "#### 사전 가지치기"
   ]
  },
  {
   "cell_type": "markdown",
   "metadata": {},
   "source": [
    "정지 규칙으로 트리의 깊이, 마지막 노드의 최소 데이터 수, 불순척도 등의 임계치를 이용하기도 함"
   ]
  },
  {
   "cell_type": "code",
   "execution_count": 34,
   "metadata": {},
   "outputs": [
    {
     "name": "stdout",
     "output_type": "stream",
     "text": [
      "훈련 세트 정확도: 0.900\n",
      "테스트 세트 정확도: 0.900\n"
     ]
    }
   ],
   "source": [
    "from sklearn.tree import DecisionTreeClassifier\n",
    "from sklearn.datasets import load_breast_cancer\n",
    "from sklearn.model_selection import train_test_split\n",
    "\n",
    "pre_prune_tree = DecisionTreeClassifier(criterion = 'entropy',max_depth=3, random_state=0)\n",
    "pre_prune_tree.fit(X_train, y_train)\n",
    "\n",
    "print(\"훈련 세트 정확도: {:.3f}\".format(pre_prune_tree.score(X_train, y_train)))\n",
    "print(\"테스트 세트 정확도: {:.3f}\".format(pre_prune_tree.score(X_test, y_test)))"
   ]
  },
  {
   "cell_type": "markdown",
   "metadata": {},
   "source": [
    "#### 사후 가지치기"
   ]
  },
  {
   "cell_type": "markdown",
   "metadata": {},
   "source": [
    "노드에서 가장 낮은 값이 1 미만일 때 트리 성장을 멈추는 방법"
   ]
  },
  {
   "cell_type": "code",
   "execution_count": 35,
   "metadata": {},
   "outputs": [],
   "source": [
    "from sklearn.tree._tree import TREE_LEAF # -1\n",
    "\n",
    "def postPruning(inner_tree, index, threshold):\n",
    "    if inner_tree.value[index].min() < threshold:\n",
    "        inner_tree.children_left[index] = TREE_LEAF\n",
    "        inner_tree.children_right[index] = TREE_LEAF\n",
    "\n",
    "    if inner_tree.children_left[index] != TREE_LEAF:\n",
    "        postPruning(inner_tree, inner_tree.children_left[index], threshold)\n",
    "        postPruning(inner_tree, inner_tree.children_right[index], threshold)"
   ]
  },
  {
   "cell_type": "code",
   "execution_count": 36,
   "metadata": {},
   "outputs": [
    {
     "data": {
      "text/plain": [
       "DecisionTreeClassifier(class_weight=None, criterion='entropy', max_depth=None,\n",
       "            max_features=None, max_leaf_nodes=None,\n",
       "            min_impurity_decrease=0.0, min_impurity_split=None,\n",
       "            min_samples_leaf=1, min_samples_split=2,\n",
       "            min_weight_fraction_leaf=0.0, presort=False, random_state=0,\n",
       "            splitter='best')"
      ]
     },
     "execution_count": 36,
     "metadata": {},
     "output_type": "execute_result"
    }
   ],
   "source": [
    "post_prune_tree = DecisionTreeClassifier(criterion = 'entropy', random_state=0)\n",
    "post_prune_tree.fit(X_train, y_train)"
   ]
  },
  {
   "cell_type": "code",
   "execution_count": 37,
   "metadata": {},
   "outputs": [
    {
     "name": "stdout",
     "output_type": "stream",
     "text": [
      "훈련 세트 정확도: 1.000\n",
      "테스트 세트 정확도: 1.000\n"
     ]
    }
   ],
   "source": [
    "print(\"훈련 세트 정확도: {:.3f}\".format(post_prune_tree.score(X_train, y_train)))\n",
    "print(\"테스트 세트 정확도: {:.3f}\".format(post_prune_tree.score(X_test, y_test)))"
   ]
  },
  {
   "cell_type": "markdown",
   "metadata": {},
   "source": [
    "#### splitter = 'random' 설정"
   ]
  },
  {
   "cell_type": "code",
   "execution_count": 38,
   "metadata": {},
   "outputs": [],
   "source": [
    "model2 = tree.DecisionTreeClassifier(criterion = 'entropy',splitter='random', random_state=0)\n",
    "# model2 = model2.fit(X, Y)\n",
    "model2 = model2.fit(X_train, y_train)"
   ]
  },
  {
   "cell_type": "code",
   "execution_count": 39,
   "metadata": {},
   "outputs": [
    {
     "name": "stdout",
     "output_type": "stream",
     "text": [
      "훈련 세트 정확도: 1.000\n",
      "테스트 세트 정확도: 1.000\n"
     ]
    }
   ],
   "source": [
    "print(\"훈련 세트 정확도: {:.3f}\".format(model2.score(X_train, y_train)))\n",
    "print(\"테스트 세트 정확도: {:.3f}\".format(model2.score(X_test, y_test)))"
   ]
  },
  {
   "cell_type": "code",
   "execution_count": 40,
   "metadata": {},
   "outputs": [
    {
     "data": {
      "image/png": "[encoded data removed]",
      "text/plain": [
       "<IPython.core.display.Image object>"
      ]
     },
     "execution_count": 40,
     "metadata": {},
     "output_type": "execute_result"
    }
   ],
   "source": [
    "dot_data = StringIO()\n",
    "tree.export_graphviz(model2, out_file=dot_data, feature_names = X.columns)\n",
    "graph = pydotplus.pydotplus.graph_from_dot_data(dot_data.getvalue())\n",
    "graph.write_png(\"water_melon_data_3.png\")\n",
    "Image(filename='water_melon_data_3.png')"
   ]
  },
  {
   "cell_type": "markdown",
   "metadata": {},
   "source": [
    "#### criterion = 'gini' 설정"
   ]
  },
  {
   "cell_type": "code",
   "execution_count": 41,
   "metadata": {},
   "outputs": [],
   "source": [
    "model3 = tree.DecisionTreeClassifier(criterion = 'gini',splitter='best', random_state=0)\n",
    "# model3 = model3.fit(X, Y)\n",
    "model3 = model3.fit(X_train, y_train)"
   ]
  },
  {
   "cell_type": "code",
   "execution_count": 42,
   "metadata": {},
   "outputs": [
    {
     "name": "stdout",
     "output_type": "stream",
     "text": [
      "훈련 세트 정확도: 1.000\n",
      "테스트 세트 정확도: 1.000\n"
     ]
    }
   ],
   "source": [
    "print(\"훈련 세트 정확도: {:.3f}\".format(model3.score(X_train, y_train)))\n",
    "print(\"테스트 세트 정확도: {:.3f}\".format(model3.score(X_test, y_test)))"
   ]
  },
  {
   "cell_type": "code",
   "execution_count": 43,
   "metadata": {
    "scrolled": true
   },
   "outputs": [
    {
     "data": {
      "image/png": "[encoded data removed]",
      "text/plain": [
       "<IPython.core.display.Image object>"
      ]
     },
     "execution_count": 43,
     "metadata": {},
     "output_type": "execute_result"
    }
   ],
   "source": [
    "dot_data = StringIO()\n",
    "tree.export_graphviz(model2, out_file=dot_data, feature_names = X.columns)\n",
    "graph = pydotplus.pydotplus.graph_from_dot_data(dot_data.getvalue())\n",
    "graph.write_png(\"water_melon_data_3.png\")\n",
    "Image(filename='water_melon_data_3.png')"
   ]
  },
  {
   "cell_type": "code",
   "execution_count": null,
   "metadata": {},
   "outputs": [],
   "source": []
  }
 ],
 "metadata": {
  "kernelspec": {
   "display_name": "Python 3",
   "language": "python",
   "name": "python3"
  },
  "language_info": {
   "codemirror_mode": {
    "name": "ipython",
    "version": 3
   },
   "file_extension": ".py",
   "mimetype": "text/x-python",
   "name": "python",
   "nbconvert_exporter": "python",
   "pygments_lexer": "ipython3",
   "version": "3.7.3"
  }
 },
 "nbformat": 4,
 "nbformat_minor": 2
}
