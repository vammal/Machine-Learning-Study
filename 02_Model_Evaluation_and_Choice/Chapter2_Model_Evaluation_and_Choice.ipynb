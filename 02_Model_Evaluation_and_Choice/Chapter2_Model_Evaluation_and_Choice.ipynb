{
 "cells": [
  {
   "cell_type": "code",
   "execution_count": 1,
   "metadata": {},
   "outputs": [],
   "source": [
    "import pandas as pd\n",
    "import numpy as np\n",
    "import matplotlib.pyplot as plt\n",
    "import warnings\n",
    "%matplotlib inline\n",
    "warnings.filterwarnings(action='ignore')"
   ]
  },
  {
   "cell_type": "markdown",
   "metadata": {},
   "source": [
    "## 2.2 평가방법"
   ]
  },
  {
   "cell_type": "code",
   "execution_count": 10,
   "metadata": {},
   "outputs": [],
   "source": [
    "from sklearn.datasets import load_iris\n",
    "from sklearn.model_selection import cross_val_score, KFold, StratifiedKFold\n",
    "from sklearn.linear_model import LogisticRegression\n",
    "\n",
    "iris = load_iris()\n",
    "logreg = LogisticRegression(solver='liblinear', multi_class='auto', max_iter=1000)"
   ]
  },
  {
   "cell_type": "markdown",
   "metadata": {},
   "source": [
    "### 2.2.1 홀드아웃 (hold-out)"
   ]
  },
  {
   "cell_type": "markdown",
   "metadata": {},
   "source": [
    "데이터 세트 D를 겹치지 않는 임의의 두 집합(S, T)으로 나눔.   \n",
    "모델은 테스트 세트 T를 활용해 오차를 측정하고, 일반화 오차에 대한 추정치를 제공.  \n",
    "*훈련/테스트 세트를 나눌때 데이터 분포가 같게 나눠야함  \n",
    "*분류 방법에 따라 다른 결과값을 가져옴"
   ]
  },
  {
   "cell_type": "code",
   "execution_count": 11,
   "metadata": {},
   "outputs": [],
   "source": [
    "from sklearn.model_selection import train_test_split\n",
    "\n",
    "X_train, X_test, y_train, y_test = train_test_split(iris['data'], iris['target'], random_state=0)"
   ]
  },
  {
   "cell_type": "code",
   "execution_count": 12,
   "metadata": {},
   "outputs": [],
   "source": [
    "model = logreg.fit(X_train,y_train)\n",
    "score = model.score(X_test, y_test)"
   ]
  },
  {
   "cell_type": "code",
   "execution_count": 13,
   "metadata": {},
   "outputs": [
    {
     "data": {
      "text/plain": [
       "0.868421052631579"
      ]
     },
     "execution_count": 13,
     "metadata": {},
     "output_type": "execute_result"
    }
   ],
   "source": [
    "score"
   ]
  },
  {
   "cell_type": "markdown",
   "metadata": {},
   "source": [
    "### 2.2.2 교차 검증 (cross validation)"
   ]
  },
  {
   "cell_type": "markdown",
   "metadata": {},
   "source": [
    "데이터 세트 D를 k개 서로소 집합으로 나눔 (층화추출법)  \n",
    "k-1개 데이터 세트 훈련세트로 사용. 나머지 하나 부분집합을 테스트 세트로 사용"
   ]
  },
  {
   "cell_type": "markdown",
   "metadata": {},
   "source": [
    "#### 기본 KFold"
   ]
  },
  {
   "cell_type": "code",
   "execution_count": 14,
   "metadata": {},
   "outputs": [
    {
     "data": {
      "text/plain": [
       "(array([1.        , 0.93333333, 0.43333333, 0.96666667, 0.43333333]),\n",
       " 0.7533333333333333)"
      ]
     },
     "execution_count": 14,
     "metadata": {},
     "output_type": "execute_result"
    }
   ],
   "source": [
    "kfold = KFold(n_splits=5)\n",
    "scores = cross_val_score(logreg, iris.data, iris.target, cv=kfold)\n",
    "scores, scores.mean()"
   ]
  },
  {
   "cell_type": "markdown",
   "metadata": {},
   "source": [
    "iris 데이터셋은 타깃값의 순서대로 훈련 데이터가 정렬되어 있기 때문에 기본 KFold에서는 교차 검증 점수의 차이가 크게 남"
   ]
  },
  {
   "cell_type": "markdown",
   "metadata": {},
   "source": [
    "#### 5차 5겹 교차 검증"
   ]
  },
  {
   "cell_type": "code",
   "execution_count": 15,
   "metadata": {},
   "outputs": [
    {
     "data": {
      "text/plain": [
       "(array([1.        , 0.93333333, 0.93333333, 0.96666667, 0.96666667,\n",
       "        0.96666667, 0.93333333, 1.        , 1.        , 0.83333333,\n",
       "        0.93333333, 0.9       , 0.96666667, 0.9       , 0.93333333,\n",
       "        0.96666667, 1.        , 0.93333333, 0.93333333, 0.93333333,\n",
       "        0.96666667, 0.9       , 1.        , 0.93333333, 0.93333333]),\n",
       " 0.9466666666666668)"
      ]
     },
     "execution_count": 15,
     "metadata": {},
     "output_type": "execute_result"
    }
   ],
   "source": [
    "from sklearn.model_selection import RepeatedKFold\n",
    "rkfold = RepeatedKFold(n_splits=5, n_repeats=5, random_state=42)\n",
    "scores = cross_val_score(logreg, iris.data, iris.target, cv=rkfold)\n",
    "scores, scores.mean()"
   ]
  },
  {
   "cell_type": "markdown",
   "metadata": {},
   "source": [
    "샘플 나누는 과정에서 생기는 차별을 최소화하여 교차 검증 점수가 비교적 안정됨"
   ]
  },
  {
   "cell_type": "markdown",
   "metadata": {},
   "source": [
    "#### 계층별 교차 검증"
   ]
  },
  {
   "cell_type": "code",
   "execution_count": 16,
   "metadata": {},
   "outputs": [
    {
     "data": {
      "text/plain": [
       "(array([1.        , 0.96666667, 0.93333333, 0.9       , 1.        ]),\n",
       " 0.9600000000000002)"
      ]
     },
     "execution_count": 16,
     "metadata": {},
     "output_type": "execute_result"
    }
   ],
   "source": [
    "skfold = StratifiedKFold(n_splits=5)\n",
    "scores = cross_val_score(logreg, iris.data, iris.target, cv=skfold)\n",
    "scores, scores.mean()"
   ]
  },
  {
   "cell_type": "markdown",
   "metadata": {},
   "source": [
    "StratifiedKFold는 타깃값 클래스 비율을 고려하기 때문에 전체적으로 고르게 폴드를 나누어서 교차 검증 점수가 비슷함"
   ]
  },
  {
   "cell_type": "markdown",
   "metadata": {},
   "source": [
    "#### LOOCV : k=m인 교차검증 (m: 데이터세트개수)"
   ]
  },
  {
   "cell_type": "code",
   "execution_count": 17,
   "metadata": {},
   "outputs": [
    {
     "data": {
      "text/plain": [
       "(array([1., 1., 1., 1., 1., 1., 1., 1., 1., 1., 1., 1., 1., 1., 1., 1., 1.,\n",
       "        1., 1., 1., 1., 1., 1., 1., 1., 1., 1., 1., 1., 1., 1., 1., 1., 1.,\n",
       "        1., 1., 1., 1., 1., 1., 1., 1., 1., 1., 1., 1., 1., 1., 1., 1., 1.,\n",
       "        1., 1., 1., 1., 1., 1., 1., 1., 1., 1., 1., 1., 1., 1., 1., 0., 1.,\n",
       "        1., 1., 0., 1., 1., 1., 1., 1., 1., 1., 1., 1., 1., 1., 1., 0., 0.,\n",
       "        0., 1., 1., 1., 1., 1., 1., 1., 1., 1., 1., 1., 1., 1., 1., 1., 1.,\n",
       "        1., 1., 1., 1., 1., 1., 1., 1., 1., 1., 1., 1., 1., 1., 1., 1., 1.,\n",
       "        1., 1., 1., 1., 1., 1., 1., 1., 1., 1., 0., 1., 1., 1., 0., 1., 1.,\n",
       "        1., 1., 1., 1., 1., 1., 1., 1., 1., 1., 1., 1., 1., 1.]),\n",
       " 0.9533333333333334)"
      ]
     },
     "execution_count": 17,
     "metadata": {},
     "output_type": "execute_result"
    }
   ],
   "source": [
    "kfold = KFold(n_splits=150)\n",
    "scores = cross_val_score(logreg, iris.data, iris.target, cv=kfold)\n",
    "scores, scores.mean()"
   ]
  },
  {
   "cell_type": "markdown",
   "metadata": {},
   "source": [
    "### 2.2.3 부트스트래핑"
   ]
  },
  {
   "cell_type": "markdown",
   "metadata": {},
   "source": [
    "m개의 샘플이 있는 데이터 세트 D, 샘플링을 통해 데이터 D' 를 만듬.  \n",
    "주로 데이터 세트가 비교적 적거나 훈련/테스트 세트로 분류하기 어려울 때 사용"
   ]
  },
  {
   "cell_type": "code",
   "execution_count": 18,
   "metadata": {},
   "outputs": [],
   "source": [
    "iris_df = pd.DataFrame(iris.data, columns=iris.feature_names)\n",
    "sy = pd.Series(iris.target, dtype=\"category\")\n",
    "sy = sy.cat.rename_categories(iris.target_names)\n",
    "iris_df['species'] = sy"
   ]
  },
  {
   "cell_type": "code",
   "execution_count": 19,
   "metadata": {},
   "outputs": [],
   "source": [
    "# iterationNum: 추출 반복횟수, d: 추출 데이터 갯수\n",
    "def bootstrapping(iterationNum,d,iris_df, data_columns,target_columns):\n",
    "    score_list = []\n",
    "    for _ in range(iterationNum):\n",
    "        bootSample = iris_df.sample(d, replace=True) # 복원 추출\n",
    "        testSample = pd.DataFrame() # bootSample에 속하지 않는 데이터 사용\n",
    "        sample_index = set(list([item for item in bootSample.index])) \n",
    "        for i in iris_df.index:\n",
    "            if (i not in sample_index):\n",
    "                testSample = testSample.append(iris_df.iloc[i])\n",
    "\n",
    "        model = logreg.fit(bootSample[data_columns],bootSample[target_columns])\n",
    "        score = model.score(testSample[data_columns],testSample[target_columns])\n",
    "        score_list.append(score)\n",
    "    return score_list"
   ]
  },
  {
   "cell_type": "code",
   "execution_count": 20,
   "metadata": {},
   "outputs": [],
   "source": [
    "score_list = bootstrapping(50,200,\\\n",
    "                           iris_df,\n",
    "                           ['sepal length (cm)','sepal width (cm)','petal length (cm)','petal width (cm)'],\\\n",
    "                           ['species'])"
   ]
  },
  {
   "cell_type": "code",
   "execution_count": 21,
   "metadata": {},
   "outputs": [
    {
     "data": {
      "text/plain": [
       "0.9496739600025141"
      ]
     },
     "execution_count": 21,
     "metadata": {},
     "output_type": "execute_result"
    }
   ],
   "source": [
    "score_list = np.array(score_list)\n",
    "score_list.mean()"
   ]
  },
  {
   "cell_type": "markdown",
   "metadata": {},
   "source": [
    "## 2.3 모델 성능 측정"
   ]
  },
  {
   "cell_type": "markdown",
   "metadata": {},
   "source": [
    "#### 예제 \n",
    "- y_true : 실제 y 값,  y_pred : y 예측 값 "
   ]
  },
  {
   "cell_type": "code",
   "execution_count": 22,
   "metadata": {},
   "outputs": [],
   "source": [
    "y_true = np.array([1,1,1,1,0,0])\n",
    "y_pred = np.array([1,1,0,0,0,0]) "
   ]
  },
  {
   "cell_type": "markdown",
   "metadata": {},
   "source": [
    "### 2.3.1 오차율과 정확도"
   ]
  },
  {
   "cell_type": "markdown",
   "metadata": {},
   "source": [
    "- 정확도: 전체 샘플 수에서 정확히 분류한 샘플 수가 차지하는 비율\n",
    "- 오차율: 모든 샘플 수에서 잘못 분류한 샘플 수가 차지하는 비율"
   ]
  },
  {
   "cell_type": "code",
   "execution_count": 23,
   "metadata": {},
   "outputs": [
    {
     "name": "stdout",
     "output_type": "stream",
     "text": [
      "accuracy: 0.3333333333333333\n",
      "error: 0.6666666666666667\n"
     ]
    }
   ],
   "source": [
    "accuracy = np.sum(y_true * y_pred == 1) / len(y_true)\n",
    "error = 1 - accuracy\n",
    "\n",
    "print(\"accuracy: \"+ str(accuracy))\n",
    "print(\"error: \"+ str(error))"
   ]
  },
  {
   "cell_type": "markdown",
   "metadata": {},
   "source": [
    "### 2.3.2 재현율, 정밀도, F1 스코어"
   ]
  },
  {
   "cell_type": "markdown",
   "metadata": {},
   "source": [
    "- confusion matrix : TP, FP, TN, FN 으로 나타냄\n",
    "- precision : TP / (TP + FP)\n",
    "- recall : TP / (TP + FN)"
   ]
  },
  {
   "cell_type": "code",
   "execution_count": 24,
   "metadata": {},
   "outputs": [],
   "source": [
    "def fn_confusion_matrix(y_true,y_pred):\n",
    "    TP = np.sum(y_true * y_pred == 1)\n",
    "    FN = np.sum(y_true == 1) - TP\n",
    "    FP = np.sum(y_pred == 1) - TP\n",
    "    TN = np.sum((y_true == 0)) - FP\n",
    "    confusion_matrix = np.array([[TP,FN],[FP,TN]])\n",
    "    return confusion_matrix"
   ]
  },
  {
   "cell_type": "code",
   "execution_count": 25,
   "metadata": {},
   "outputs": [],
   "source": [
    "def fn_precision(y_true,y_pred):\n",
    "    TP = np.sum(y_true * y_pred == 1)\n",
    "    precision = TP / np.sum(y_pred) \n",
    "    return precision"
   ]
  },
  {
   "cell_type": "code",
   "execution_count": 26,
   "metadata": {},
   "outputs": [],
   "source": [
    "def fn_recall(y_true,y_pred):\n",
    "    TP = np.sum(y_true * y_pred == 1)\n",
    "    recall = TP / np.sum(y_true)\n",
    "    return recall"
   ]
  },
  {
   "cell_type": "code",
   "execution_count": 27,
   "metadata": {},
   "outputs": [],
   "source": [
    "def fn_f1_score(y_true,y_pred):\n",
    "    precision = fn_precision(y_true, y_pred)\n",
    "    recall = fn_recall(y_true, y_pred)\n",
    "    f1 = 2 * precision*recall/(precision+recall)\n",
    "    return f1"
   ]
  },
  {
   "cell_type": "code",
   "execution_count": 29,
   "metadata": {},
   "outputs": [],
   "source": [
    "def fn_fbeta_score(y_true,y_pred,beta):\n",
    "    precision = fn_precision(y_true, y_pred)\n",
    "    recall = fn_recall(y_true, y_pred)\n",
    "    fbeta = (1+np.square(beta)) * precision*recall/((np.square(beta)*precision)+recall)\n",
    "    return fbeta"
   ]
  },
  {
   "cell_type": "markdown",
   "metadata": {},
   "source": [
    "#### fn_confusion_matrix 결과 확인 ( sklearn.metrics.confusion_matrix 비교)"
   ]
  },
  {
   "cell_type": "code",
   "execution_count": 31,
   "metadata": {},
   "outputs": [
    {
     "data": {
      "text/plain": [
       "array([[2, 2],\n",
       "       [0, 2]])"
      ]
     },
     "execution_count": 31,
     "metadata": {},
     "output_type": "execute_result"
    }
   ],
   "source": [
    "# 교재 표 2.1과 같이 [[TP, FN],[FP,TN]] 순서로 구성하였다.\n",
    "\n",
    "fn_confusion_matrix(y_true,y_pred)"
   ]
  },
  {
   "cell_type": "code",
   "execution_count": 32,
   "metadata": {},
   "outputs": [
    {
     "data": {
      "text/plain": [
       "array([[2, 0],\n",
       "       [2, 2]], dtype=int64)"
      ]
     },
     "execution_count": 32,
     "metadata": {},
     "output_type": "execute_result"
    }
   ],
   "source": [
    "import sklearn.metrics \n",
    "\n",
    "# [[TN, FP],[FN,TP]] 순서로 confusion matrix가 구성되어있다.\n",
    "\n",
    "sklearn.metrics.confusion_matrix(y_true,y_pred)"
   ]
  },
  {
   "cell_type": "markdown",
   "metadata": {},
   "source": [
    "#### fn_precision, fn_recall, fn_f1_score 결과 확인 ( sklearn 확인 )"
   ]
  },
  {
   "cell_type": "code",
   "execution_count": 33,
   "metadata": {},
   "outputs": [],
   "source": [
    "precision = fn_precision(y_true,y_pred)\n",
    "recall = fn_recall(y_true,y_pred)\n",
    "f1_score = fn_f1_score(y_true,y_pred)"
   ]
  },
  {
   "cell_type": "code",
   "execution_count": 34,
   "metadata": {},
   "outputs": [
    {
     "name": "stdout",
     "output_type": "stream",
     "text": [
      "precision: 1.0\n",
      "recall: 0.5\n",
      "f1_score: 0.6666666666666666\n"
     ]
    }
   ],
   "source": [
    "print(\"precision: \"+ str(precision))\n",
    "print(\"recall: \"+ str(recall))\n",
    "print(\"f1_score: \"+ str(f1_score))"
   ]
  },
  {
   "cell_type": "code",
   "execution_count": 35,
   "metadata": {},
   "outputs": [],
   "source": [
    "from sklearn.metrics import classification_report\n",
    "from sklearn.metrics import precision_score\n",
    "from sklearn.metrics import recall_score\n",
    "from sklearn.metrics import f1_score"
   ]
  },
  {
   "cell_type": "code",
   "execution_count": 36,
   "metadata": {},
   "outputs": [
    {
     "name": "stdout",
     "output_type": "stream",
     "text": [
      "sk_precision: 1.0\n",
      "sk_recall: 0.5\n",
      "sk_f1_score: 0.6666666666666666\n"
     ]
    }
   ],
   "source": [
    "print(\"sk_precision: \"+ str(precision_score(y_true,y_pred) ))\n",
    "print(\"sk_recall: \"+ str(recall_score(y_true,y_pred) ))\n",
    "print(\"sk_f1_score: \"+ str(f1_score(y_true,y_pred) ))"
   ]
  },
  {
   "cell_type": "markdown",
   "metadata": {},
   "source": [
    "### 2.3.3 ROC와 AUC"
   ]
  },
  {
   "cell_type": "markdown",
   "metadata": {},
   "source": [
    "- 민감도 (Sensitivity) : (TP / TP + FN) 양성 중 맞춘 양성의 수\n",
    "- 특이도 (Specificity) : (TN / FP + TN) 음성 중 맞춘 음성의 수\n",
    "- 정밀도 (Precision) : (TP / TP + FP) 양성이라고 판정 한 것 중에 실제 양성 수\n",
    "- 재현율 (Recall) : (TP / TP + FN) 전체 양성 수에서 검출 양성 수\n",
    "- 정확도 (accuracy): (TP + TN / TP + FN + FP + TN) 전체 개수 중에서 양성과 음성을 맞춘 수"
   ]
  },
  {
   "cell_type": "markdown",
   "metadata": {},
   "source": [
    "- ROC 곡선: 학습기의 일반화 성능을 나타내는 그래프\n",
    "- y축 : True Positive Rate = TP / (TP + FN)\n",
    "- x축 : False Positive Rate = FP / (TN+FP)\n",
    "\n",
    "- AUC는 ROC 곡선 아래 영역"
   ]
  },
  {
   "cell_type": "code",
   "execution_count": 37,
   "metadata": {},
   "outputs": [
    {
     "data": {
      "image/png": "[encoded data removed]",
      "text/plain": [
       "<Figure size 432x288 with 1 Axes>"
      ]
     },
     "metadata": {
      "needs_background": "light"
     },
     "output_type": "display_data"
    }
   ],
   "source": [
    "# ROC를 통해 Model F와 Model G의 성능 비교\n",
    "\n",
    "from sklearn.metrics import roc_curve, auc\n",
    "\n",
    "class_F = np.array([0, 0, 0, 0, 0, 0, 1, 1, 1, 1])\n",
    "proba_F = np.array([0.05, 0.15, 0.15, 0.25, 0.55, 0.65, 0.35, 0.45, 0.95, 0.95])\n",
    "\n",
    "class_G = np.array([0, 0, 0, 0, 0, 0, 1, 1, 1, 1])\n",
    "proba_G = np.array([0.05, 0.05, 0.25, 0.45, 0.65, 0.85, 0.15, 0.35, 0.75, 0.95])\n",
    "\n",
    "false_positive_rate_F, true_positive_rate_F, thresholds_F = roc_curve(class_F, proba_F)\n",
    "false_positive_rate_G, true_positive_rate_G, thresholds_G = roc_curve(class_G, proba_G)\n",
    "\n",
    "roc_auc_F = auc(false_positive_rate_F, true_positive_rate_F)\n",
    "roc_auc_G = auc(false_positive_rate_G, true_positive_rate_G)\n",
    "\n",
    "plt.title('Receiver Operationg Characteristic')\n",
    "plt.xlabel('False Positive Rate(1 - Specificity)')\n",
    "plt.ylabel('True Positive Rate(Sensitivity)')\n",
    "\n",
    "plt.plot(false_positive_rate_F, true_positive_rate_F, 'b', label='Model F (AUC = %0.2f)'%roc_auc_F)\n",
    "plt.plot(false_positive_rate_G, true_positive_rate_G, 'g', label='Model G (AUC = %0.2f)'%roc_auc_G)\n",
    "\n",
    "plt.plot([0,1],[1,1], 'y--')\n",
    "plt.plot([0,1],[0,1], 'r--')\n",
    "\n",
    "plt.legend(loc = 'lower right')\n",
    "plt.show()"
   ]
  }
 ],
 "metadata": {
  "kernelspec": {
   "display_name": "Python 3",
   "language": "python",
   "name": "python3"
  },
  "language_info": {
   "codemirror_mode": {
    "name": "ipython",
    "version": 3
   },
   "file_extension": ".py",
   "mimetype": "text/x-python",
   "name": "python",
   "nbconvert_exporter": "python",
   "pygments_lexer": "ipython3",
   "version": "3.7.3"
  }
 },
 "nbformat": 4,
 "nbformat_minor": 2
}
