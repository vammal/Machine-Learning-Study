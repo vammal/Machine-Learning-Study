{
 "cells": [
  {
   "cell_type": "markdown",
   "metadata": {},
   "source": [
    "### 나이브 베이즈"
   ]
  },
  {
   "cell_type": "markdown",
   "metadata": {},
   "source": [
    "참고 사이트  \n",
    ": https://scikit-learn.org/stable/modules/generated/sklearn.naive_bayes.GaussianNB.html#sklearn.naive_bayes.GaussianNB  \n",
    ": https://datascienceschool.net/view-notebook/c19b48e3c7b048668f2bb0a113bd25f7/"
   ]
  },
  {
   "cell_type": "markdown",
   "metadata": {},
   "source": [
    "scikit-learn 구현된 나이브 베이즈 분류기\n",
    "- GaussianNB : 정규분포 나이브 베이즈 (연속 데이터)\n",
    "- BernoulliNB : 베르누이분포 나이브 베이즈 (이진 데이터)\n",
    "- MultinomialNB : 다항분포 나이브 베이즈 (카운트 데이터)"
   ]
  },
  {
   "cell_type": "markdown",
   "metadata": {},
   "source": [
    "#### GaussianNB "
   ]
  },
  {
   "cell_type": "code",
   "execution_count": 1,
   "metadata": {},
   "outputs": [],
   "source": [
    "import pandas as pd\n",
    "from sklearn import preprocessing\n",
    "import warnings\n",
    "\n",
    "warnings.filterwarnings(action='ignore')"
   ]
  },
  {
   "cell_type": "code",
   "execution_count": 2,
   "metadata": {
    "scrolled": true
   },
   "outputs": [],
   "source": [
    "water_melon_data_3 = pd.read_pickle('water_melon_data_3')"
   ]
  },
  {
   "cell_type": "code",
   "execution_count": 3,
   "metadata": {},
   "outputs": [
    {
     "data": {
      "text/plain": [
       "17"
      ]
     },
     "execution_count": 3,
     "metadata": {},
     "output_type": "execute_result"
    }
   ],
   "source": [
    "len(water_melon_data_3)"
   ]
  },
  {
   "cell_type": "code",
   "execution_count": 4,
   "metadata": {},
   "outputs": [],
   "source": [
    "le = preprocessing.LabelEncoder()\n",
    "\n",
    "# String label을 숫자로 변경\n",
    "color=le.fit_transform(water_melon_data_3['color'])\n",
    "tap_shape=le.fit_transform(water_melon_data_3['tap_shape'])\n",
    "sound=le.fit_transform(water_melon_data_3['sound'])\n",
    "stripe=le.fit_transform(water_melon_data_3['stripe'])\n",
    "navel_shape=le.fit_transform(water_melon_data_3['navel_shape'])\n",
    "texture=le.fit_transform(water_melon_data_3['texture'])\n",
    "ripe=le.fit_transform(water_melon_data_3['ripe'])"
   ]
  },
  {
   "cell_type": "code",
   "execution_count": 5,
   "metadata": {},
   "outputs": [],
   "source": [
    "density = water_melon_data_3['density']\n",
    "sweet = water_melon_data_3['sweet']"
   ]
  },
  {
   "cell_type": "code",
   "execution_count": 6,
   "metadata": {},
   "outputs": [
    {
     "data": {
      "text/html": [
       "<div>\n",
       "<style scoped>\n",
       "    .dataframe tbody tr th:only-of-type {\n",
       "        vertical-align: middle;\n",
       "    }\n",
       "\n",
       "    .dataframe tbody tr th {\n",
       "        vertical-align: top;\n",
       "    }\n",
       "\n",
       "    .dataframe thead th {\n",
       "        text-align: right;\n",
       "    }\n",
       "</style>\n",
       "<table border=\"1\" class=\"dataframe\">\n",
       "  <thead>\n",
       "    <tr style=\"text-align: right;\">\n",
       "      <th></th>\n",
       "      <th>num</th>\n",
       "      <th>color</th>\n",
       "      <th>tap_shape</th>\n",
       "      <th>sound</th>\n",
       "      <th>stripe</th>\n",
       "      <th>navel_shape</th>\n",
       "      <th>texture</th>\n",
       "      <th>density</th>\n",
       "      <th>sweet</th>\n",
       "      <th>ripe</th>\n",
       "    </tr>\n",
       "  </thead>\n",
       "  <tbody>\n",
       "    <tr>\n",
       "      <th>0</th>\n",
       "      <td>1</td>\n",
       "      <td>2</td>\n",
       "      <td>1</td>\n",
       "      <td>2</td>\n",
       "      <td>0</td>\n",
       "      <td>1</td>\n",
       "      <td>0</td>\n",
       "      <td>0.697</td>\n",
       "      <td>0.460</td>\n",
       "      <td>1</td>\n",
       "    </tr>\n",
       "    <tr>\n",
       "      <th>1</th>\n",
       "      <td>2</td>\n",
       "      <td>1</td>\n",
       "      <td>1</td>\n",
       "      <td>0</td>\n",
       "      <td>0</td>\n",
       "      <td>1</td>\n",
       "      <td>0</td>\n",
       "      <td>0.774</td>\n",
       "      <td>0.376</td>\n",
       "      <td>1</td>\n",
       "    </tr>\n",
       "    <tr>\n",
       "      <th>2</th>\n",
       "      <td>3</td>\n",
       "      <td>1</td>\n",
       "      <td>1</td>\n",
       "      <td>2</td>\n",
       "      <td>0</td>\n",
       "      <td>1</td>\n",
       "      <td>0</td>\n",
       "      <td>0.634</td>\n",
       "      <td>0.264</td>\n",
       "      <td>1</td>\n",
       "    </tr>\n",
       "    <tr>\n",
       "      <th>3</th>\n",
       "      <td>4</td>\n",
       "      <td>2</td>\n",
       "      <td>1</td>\n",
       "      <td>0</td>\n",
       "      <td>0</td>\n",
       "      <td>1</td>\n",
       "      <td>0</td>\n",
       "      <td>0.608</td>\n",
       "      <td>0.318</td>\n",
       "      <td>1</td>\n",
       "    </tr>\n",
       "    <tr>\n",
       "      <th>4</th>\n",
       "      <td>5</td>\n",
       "      <td>0</td>\n",
       "      <td>1</td>\n",
       "      <td>2</td>\n",
       "      <td>0</td>\n",
       "      <td>1</td>\n",
       "      <td>0</td>\n",
       "      <td>0.556</td>\n",
       "      <td>0.215</td>\n",
       "      <td>1</td>\n",
       "    </tr>\n",
       "  </tbody>\n",
       "</table>\n",
       "</div>"
      ],
      "text/plain": [
       "  num  color  tap_shape  sound  stripe  navel_shape  texture  density  sweet  \\\n",
       "0   1      2          1      2       0            1        0    0.697  0.460   \n",
       "1   2      1          1      0       0            1        0    0.774  0.376   \n",
       "2   3      1          1      2       0            1        0    0.634  0.264   \n",
       "3   4      2          1      0       0            1        0    0.608  0.318   \n",
       "4   5      0          1      2       0            1        0    0.556  0.215   \n",
       "\n",
       "   ripe  \n",
       "0     1  \n",
       "1     1  \n",
       "2     1  \n",
       "3     1  \n",
       "4     1  "
      ]
     },
     "execution_count": 6,
     "metadata": {},
     "output_type": "execute_result"
    }
   ],
   "source": [
    "water_melon_data_3['color'] = color\n",
    "water_melon_data_3['tap_shape'] = tap_shape\n",
    "water_melon_data_3['sound'] = sound\n",
    "water_melon_data_3['stripe'] = stripe\n",
    "water_melon_data_3['navel_shape']= navel_shape\n",
    "water_melon_data_3['texture']= texture\n",
    "water_melon_data_3['ripe'] = ripe\n",
    "water_melon_data_3.head()"
   ]
  },
  {
   "cell_type": "code",
   "execution_count": 7,
   "metadata": {},
   "outputs": [],
   "source": [
    "label=le.fit_transform(water_melon_data_3['ripe'])"
   ]
  },
  {
   "cell_type": "code",
   "execution_count": 8,
   "metadata": {},
   "outputs": [],
   "source": [
    "features = zip(color,tap_shape,sound,stripe,navel_shape,texture,density,sweet)\n",
    "features = list(features)"
   ]
  },
  {
   "cell_type": "code",
   "execution_count": 9,
   "metadata": {},
   "outputs": [],
   "source": [
    "from sklearn.naive_bayes import GaussianNB,BernoulliNB,MultinomialNB\n",
    "\n",
    "# Parameter priors=None, var_smoothing=1e-09\n",
    "model = GaussianNB()\n",
    "\n",
    "model.fit(features,label)\n",
    "predicted = model.predict([[2, 1, 2, 0, 1, 0, 0.697, 0.46]]) # 0:안익음, 2:익음"
   ]
  },
  {
   "cell_type": "code",
   "execution_count": 10,
   "metadata": {
    "scrolled": true
   },
   "outputs": [
    {
     "name": "stdout",
     "output_type": "stream",
     "text": [
      "predicted [1]\n",
      "model.classes_ [0 1]\n",
      "model.class_count_ [9. 8.]\n",
      "model.class_prior_ [0.52941176 0.47058824]\n",
      "model.theta_[0] [0.88888889 1.22222222 1.11111111 1.11111111 1.11111111 0.22222222\n",
      " 0.49611111 0.15422222]\n",
      "model.sigma_[0] [0.7654321  0.61728395 0.7654321  0.54320988 0.7654321  0.17283951\n",
      " 0.03370254 0.01032862]\n"
     ]
    }
   ],
   "source": [
    "print('predicted',predicted)\n",
    "print('model.classes_',model.classes_)\n",
    "print('model.class_count_',model.class_count_)\n",
    "print('model.class_prior_',model.class_prior_)\n",
    "\n",
    "# theta_: 정규분포의 기댓값  μ \n",
    "# sigma_: 정규분포의 분산  σ2\n",
    "print('model.theta_[0]',model.theta_[0])\n",
    "print('model.sigma_[0]',model.sigma_[0])"
   ]
  },
  {
   "cell_type": "code",
   "execution_count": 11,
   "metadata": {},
   "outputs": [
    {
     "data": {
      "text/plain": [
       "(array([1., 1., 1., 1., 0., 1., 0., 1., 1., 1., 1., 1., 1., 1., 0., 1., 1.]),\n",
       " 0.8235294117647058)"
      ]
     },
     "execution_count": 11,
     "metadata": {},
     "output_type": "execute_result"
    }
   ],
   "source": [
    "from sklearn.model_selection import cross_val_score,KFold\n",
    "\n",
    "gnb = GaussianNB(var_smoothing=1e-09)\n",
    "\n",
    "kfold = KFold(n_splits=17)\n",
    "scores = cross_val_score(gnb, water_melon_data_3[['color','tap_shape','sound','stripe','navel_shape','texture',\\\n",
    "                                                   'density','sweet']], \\\n",
    "                         water_melon_data_3[['ripe']], cv=kfold)\n",
    "scores, scores.mean()"
   ]
  },
  {
   "cell_type": "code",
   "execution_count": 12,
   "metadata": {},
   "outputs": [],
   "source": [
    "# var_smoothing=1e-09 : 0.8235...\n",
    "# var_smoothing=1e-01 : 0.6470..."
   ]
  },
  {
   "cell_type": "code",
   "execution_count": 13,
   "metadata": {},
   "outputs": [
    {
     "data": {
      "text/plain": [
       "(array([1., 1., 1., 1., 0., 1., 0., 1., 1., 0., 1., 1., 1., 1., 0., 1., 1.]),\n",
       " 0.7647058823529411)"
      ]
     },
     "execution_count": 13,
     "metadata": {},
     "output_type": "execute_result"
    }
   ],
   "source": [
    "bnb = BernoulliNB()\n",
    "\n",
    "kfold = KFold(n_splits=17)\n",
    "scores = cross_val_score(bnb, water_melon_data_3[['color','tap_shape','sound','stripe','navel_shape','texture',\\\n",
    "                                                   'density','sweet']], \\\n",
    "                         water_melon_data_3[['ripe']], cv=kfold)\n",
    "scores, scores.mean()"
   ]
  },
  {
   "cell_type": "code",
   "execution_count": 14,
   "metadata": {},
   "outputs": [
    {
     "data": {
      "text/plain": [
       "(array([1., 0., 1., 1., 1., 1., 0., 1., 1., 0., 1., 1., 0., 1., 0., 1., 1.]),\n",
       " 0.7058823529411765)"
      ]
     },
     "execution_count": 14,
     "metadata": {},
     "output_type": "execute_result"
    }
   ],
   "source": [
    "mnb = MultinomialNB()\n",
    "\n",
    "kfold = KFold(n_splits=17)\n",
    "scores = cross_val_score(mnb, water_melon_data_3[['color','tap_shape','sound','stripe','navel_shape','texture',\\\n",
    "                                                   'density','sweet']], \\\n",
    "                         water_melon_data_3[['ripe']], cv=kfold)\n",
    "scores, scores.mean()"
   ]
  }
 ],
 "metadata": {
  "kernelspec": {
   "display_name": "Python 3",
   "language": "python",
   "name": "python3"
  },
  "language_info": {
   "codemirror_mode": {
    "name": "ipython",
    "version": 3
   },
   "file_extension": ".py",
   "mimetype": "text/x-python",
   "name": "python",
   "nbconvert_exporter": "python",
   "pygments_lexer": "ipython3",
   "version": "3.7.3"
  }
 },
 "nbformat": 4,
 "nbformat_minor": 2
}
