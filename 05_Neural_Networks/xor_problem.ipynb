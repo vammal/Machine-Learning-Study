{
 "cells": [
  {
   "cell_type": "markdown",
   "metadata": {},
   "source": [
    "## XOR 문제를 Neural Network로 풀어보기"
   ]
  },
  {
   "cell_type": "code",
   "execution_count": 4,
   "metadata": {},
   "outputs": [],
   "source": [
    "import numpy as np"
   ]
  },
  {
   "cell_type": "code",
   "execution_count": 5,
   "metadata": {},
   "outputs": [],
   "source": [
    "X = np.array([[0, 0, 1, 1], [0, 1, 0, 1]])\n",
    "Y = np.array([[0, 1, 1, 0]])"
   ]
  },
  {
   "cell_type": "code",
   "execution_count": 6,
   "metadata": {},
   "outputs": [
    {
     "name": "stdout",
     "output_type": "stream",
     "text": [
      "[[0 0 1 1]\n",
      " [0 1 0 1]]\n",
      "(2, 4)\n"
     ]
    }
   ],
   "source": [
    "print(X)\n",
    "print(X.shape)"
   ]
  },
  {
   "cell_type": "code",
   "execution_count": 7,
   "metadata": {},
   "outputs": [
    {
     "name": "stdout",
     "output_type": "stream",
     "text": [
      "[[0 1 1 0]]\n",
      "(1, 4)\n"
     ]
    }
   ],
   "source": [
    "print(Y)\n",
    "print(Y.shape)"
   ]
  },
  {
   "cell_type": "code",
   "execution_count": 19,
   "metadata": {},
   "outputs": [],
   "source": [
    "def init_random_parameters (num_hidden = 2, deviation = 1):\n",
    "\n",
    "    W1 = np.random.rand(2,num_hidden)*deviation\n",
    "    B1 = np.random.random((num_hidden,1))*deviation\n",
    "    W2 = np.random.rand(num_hidden,1)*deviation\n",
    "    B2 = np.random.random((1,1))*deviation\n",
    "    return W1, B1, W2, B2"
   ]
  },
  {
   "cell_type": "code",
   "execution_count": 20,
   "metadata": {},
   "outputs": [],
   "source": [
    "W1, B1, W2, B2 = init_parameters()"
   ]
  },
  {
   "cell_type": "code",
   "execution_count": 10,
   "metadata": {},
   "outputs": [
    {
     "data": {
      "text/plain": [
       "((2, 2), (2, 1), (2, 1), (1, 1))"
      ]
     },
     "execution_count": 10,
     "metadata": {},
     "output_type": "execute_result"
    }
   ],
   "source": [
    "W1.shape, W2.shape, B1.shape, B2.shape"
   ]
  },
  {
   "cell_type": "code",
   "execution_count": 11,
   "metadata": {},
   "outputs": [],
   "source": [
    "def affine (W, X, B):\n",
    "    return np.dot(W.T, X) + B\n",
    "\n",
    "def sigmoid (z):\n",
    "    return 1./(1+np.exp(-1*z))"
   ]
  },
  {
   "cell_type": "code",
   "execution_count": 12,
   "metadata": {},
   "outputs": [],
   "source": [
    "Z2 = affine(W2,X, B2)\n",
    "Y_hat = sigmoid(Z2)"
   ]
  },
  {
   "cell_type": "code",
   "execution_count": 13,
   "metadata": {},
   "outputs": [
    {
     "name": "stdout",
     "output_type": "stream",
     "text": [
      "[[0.5 0.5 0.5 0.5]]\n"
     ]
    }
   ],
   "source": [
    "print(Y_hat)"
   ]
  },
  {
   "cell_type": "code",
   "execution_count": 14,
   "metadata": {},
   "outputs": [
    {
     "data": {
      "text/plain": [
       "0.6931471805599453"
      ]
     },
     "execution_count": 14,
     "metadata": {},
     "output_type": "execute_result"
    }
   ],
   "source": [
    "def loss_eval (_params):\n",
    "    \n",
    "    W1, B1, W2, B2 = _params\n",
    "    \n",
    "    # Forward: input Layer\n",
    "    Z1 = affine(W1, X, B1)\n",
    "    H  = sigmoid(Z1)\n",
    "\n",
    "    # Forward: Hidden Layer\n",
    "    Z2 = affine(W2, H, B2)\n",
    "    Y_hat = sigmoid(Z2)\n",
    "\n",
    "    loss = 1./X.shape[1] * np.sum(-1 * (Y * np.log(Y_hat) + (1-Y) * np.log(1-Y_hat)))\n",
    "    return Z1, H, Z2, Y_hat, loss\n",
    "\n",
    "loss_eval ([W1, B1, W2, B2])[-1]"
   ]
  },
  {
   "cell_type": "code",
   "execution_count": 15,
   "metadata": {},
   "outputs": [
    {
     "data": {
      "text/plain": [
       "0.6931471805599453"
      ]
     },
     "execution_count": 15,
     "metadata": {},
     "output_type": "execute_result"
    }
   ],
   "source": [
    "loss_eval ([W1, B1, W2, B2])[-1]"
   ]
  },
  {
   "cell_type": "code",
   "execution_count": 16,
   "metadata": {},
   "outputs": [],
   "source": [
    "def get_gradients (_params):\n",
    "       \n",
    "    W1, B1, W2, B2 = _params\n",
    "    m = X.shape[1]\n",
    "    \n",
    "    Z1, H, Z2, Y_hat, loss = loss_eval([W1, B1, W2, B2])\n",
    "    \n",
    "    # BackPropagate: Hidden Layer\n",
    "    dW2 = np.dot(H, (Y_hat-Y).T)\n",
    "    dB2 = 1. / 4. * np.sum(Y_hat-Y, axis=1, keepdims=True)    \n",
    "    dH  = np.dot(W2, Y_hat-Y)\n",
    "\n",
    "    # BackPropagate: Input Layer\n",
    "    dZ1 = dH * H * (1-H)\n",
    "    dW1 = np.dot(X, dZ1.T)\n",
    "    dB1 = 1. / 4. * np.sum(dZ1, axis=1, keepdims=True)\n",
    "    \n",
    "    return [dW1, dB1, dW2, dB2], loss"
   ]
  },
  {
   "cell_type": "code",
   "execution_count": 28,
   "metadata": {},
   "outputs": [],
   "source": [
    "def optimize (_params, learning_rate = 0.1, iteration = 1000, sample_size = 0):\n",
    "    \n",
    "    params = np.copy(_params)\n",
    "\n",
    "    loss_trace = []\n",
    "\n",
    "    for epoch in range(iteration):\n",
    "        \n",
    "        dparams, loss = get_gradients(params)\n",
    "        \n",
    "        for param, dparam in zip(params, dparams):\n",
    "            param += - learning_rate * dparam\n",
    "        \n",
    "        if (epoch % 100 == 0):\n",
    "            loss_trace.append(loss)\n",
    "        \n",
    "    _, _, _, Y_hat_predict, _ = loss_eval(params)\n",
    "    \n",
    "    for i in range(Y_hat_predict.shape[1]):\n",
    "\n",
    "        Y_hat_predict[0, i] = 1 if Y_hat_predict[0, i] > 0.5 else 0\n",
    "    \n",
    "    return params,loss_trace, Y_hat_predict"
   ]
  },
  {
   "cell_type": "code",
   "execution_count": 29,
   "metadata": {},
   "outputs": [
    {
     "name": "stdout",
     "output_type": "stream",
     "text": [
      "[[0. 1. 1. 0.]]\n"
     ]
    },
    {
     "data": {
      "image/png": "[encoded data removed]",
      "text/plain": [
       "<Figure size 432x288 with 1 Axes>"
      ]
     },
     "metadata": {
      "needs_background": "light"
     },
     "output_type": "display_data"
    }
   ],
   "source": [
    "import matplotlib.pyplot as plt\n",
    "\n",
    "params = init_random_parameters(2, 0.1)\n",
    "new_params, loss_trace, Y_hat_predict = optimize(params, 0.1, 100000)\n",
    "print(Y_hat_predict)\n",
    "# Plot learning curve (with costs)\n",
    "plt.plot(loss_trace)\n",
    "plt.ylabel('loss')\n",
    "plt.xlabel('iterations (per hundreds)')\n",
    "plt.show()"
   ]
  },
  {
   "cell_type": "code",
   "execution_count": null,
   "metadata": {},
   "outputs": [],
   "source": []
  }
 ],
 "metadata": {
  "kernelspec": {
   "display_name": "Python 3",
   "language": "python",
   "name": "python3"
  },
  "language_info": {
   "codemirror_mode": {
    "name": "ipython",
    "version": 3
   },
   "file_extension": ".py",
   "mimetype": "text/x-python",
   "name": "python",
   "nbconvert_exporter": "python",
   "pygments_lexer": "ipython3",
   "version": "3.6.10"
  }
 },
 "nbformat": 4,
 "nbformat_minor": 4
}
