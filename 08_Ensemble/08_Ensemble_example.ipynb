{
 "cells": [
  {
   "cell_type": "markdown",
   "metadata": {},
   "source": [
    "## 앙상블\n",
    "\n",
    "- 참고 : https://scikit-learn.org/stable/modules/classes.html#module-sklearn.ensemble"
   ]
  },
  {
   "cell_type": "code",
   "execution_count": 1,
   "metadata": {},
   "outputs": [],
   "source": [
    "import pandas as pd\n",
    "import numpy as np\n",
    "import matplotlib.pyplot as plt\n",
    "import seaborn as sns"
   ]
  },
  {
   "cell_type": "code",
   "execution_count": 2,
   "metadata": {},
   "outputs": [],
   "source": [
    "from sklearn.model_selection import train_test_split\n",
    "from sklearn.metrics import accuracy_score, classification_report\n",
    "from sklearn.preprocessing import LabelEncoder"
   ]
  },
  {
   "cell_type": "markdown",
   "metadata": {},
   "source": [
    "### Data load"
   ]
  },
  {
   "cell_type": "code",
   "execution_count": 3,
   "metadata": {},
   "outputs": [
    {
     "data": {
      "text/html": [
       "<div>\n",
       "<style scoped>\n",
       "    .dataframe tbody tr th:only-of-type {\n",
       "        vertical-align: middle;\n",
       "    }\n",
       "\n",
       "    .dataframe tbody tr th {\n",
       "        vertical-align: top;\n",
       "    }\n",
       "\n",
       "    .dataframe thead th {\n",
       "        text-align: right;\n",
       "    }\n",
       "</style>\n",
       "<table border=\"1\" class=\"dataframe\">\n",
       "  <thead>\n",
       "    <tr style=\"text-align: right;\">\n",
       "      <th></th>\n",
       "      <th>NO</th>\n",
       "      <th>COLOR</th>\n",
       "      <th>T_SHAPE</th>\n",
       "      <th>SOUND</th>\n",
       "      <th>STRIPE</th>\n",
       "      <th>B_SHAPE</th>\n",
       "      <th>TEXTURE</th>\n",
       "      <th>DENSITY</th>\n",
       "      <th>SUGAR</th>\n",
       "      <th>Y</th>\n",
       "    </tr>\n",
       "  </thead>\n",
       "  <tbody>\n",
       "    <tr>\n",
       "      <th>0</th>\n",
       "      <td>1</td>\n",
       "      <td>청록색</td>\n",
       "      <td>말림</td>\n",
       "      <td>혼탁</td>\n",
       "      <td>선명함</td>\n",
       "      <td>움푹 패임</td>\n",
       "      <td>단단함</td>\n",
       "      <td>0.697</td>\n",
       "      <td>0.460</td>\n",
       "      <td>Y</td>\n",
       "    </tr>\n",
       "    <tr>\n",
       "      <th>1</th>\n",
       "      <td>2</td>\n",
       "      <td>진녹색</td>\n",
       "      <td>말림</td>\n",
       "      <td>둔탁</td>\n",
       "      <td>선명함</td>\n",
       "      <td>움푹 패임</td>\n",
       "      <td>단단함</td>\n",
       "      <td>0.774</td>\n",
       "      <td>0.376</td>\n",
       "      <td>Y</td>\n",
       "    </tr>\n",
       "    <tr>\n",
       "      <th>2</th>\n",
       "      <td>3</td>\n",
       "      <td>진녹색</td>\n",
       "      <td>말림</td>\n",
       "      <td>혼탁</td>\n",
       "      <td>선명함</td>\n",
       "      <td>움푹 패임</td>\n",
       "      <td>단단함</td>\n",
       "      <td>0.634</td>\n",
       "      <td>0.264</td>\n",
       "      <td>Y</td>\n",
       "    </tr>\n",
       "    <tr>\n",
       "      <th>3</th>\n",
       "      <td>4</td>\n",
       "      <td>청록색</td>\n",
       "      <td>말림</td>\n",
       "      <td>둔탁</td>\n",
       "      <td>선명함</td>\n",
       "      <td>움푹 패임</td>\n",
       "      <td>단단함</td>\n",
       "      <td>0.608</td>\n",
       "      <td>0.318</td>\n",
       "      <td>Y</td>\n",
       "    </tr>\n",
       "    <tr>\n",
       "      <th>4</th>\n",
       "      <td>5</td>\n",
       "      <td>연녹색</td>\n",
       "      <td>말림</td>\n",
       "      <td>혼탁</td>\n",
       "      <td>선명함</td>\n",
       "      <td>움푹 패임</td>\n",
       "      <td>단단함</td>\n",
       "      <td>0.556</td>\n",
       "      <td>0.215</td>\n",
       "      <td>Y</td>\n",
       "    </tr>\n",
       "  </tbody>\n",
       "</table>\n",
       "</div>"
      ],
      "text/plain": [
       "   NO COLOR T_SHAPE SOUND STRIPE B_SHAPE TEXTURE  DENSITY  SUGAR  Y\n",
       "0   1   청록색      말림    혼탁    선명함   움푹 패임     단단함    0.697  0.460  Y\n",
       "1   2   진녹색      말림    둔탁    선명함   움푹 패임     단단함    0.774  0.376  Y\n",
       "2   3   진녹색      말림    혼탁    선명함   움푹 패임     단단함    0.634  0.264  Y\n",
       "3   4   청록색      말림    둔탁    선명함   움푹 패임     단단함    0.608  0.318  Y\n",
       "4   5   연녹색      말림    혼탁    선명함   움푹 패임     단단함    0.556  0.215  Y"
      ]
     },
     "execution_count": 3,
     "metadata": {},
     "output_type": "execute_result"
    }
   ],
   "source": [
    "df = pd.read_csv('../dataset/water_melon_data_3.csv'\n",
    "                 , sep='|'\n",
    "                 , header=0\n",
    "                 , dtype = {\n",
    "                     'COLOR': 'category'\n",
    "                     , 'T_SHAPE' : 'category'\n",
    "                     , 'SOUND' : 'category'\n",
    "                     , 'STRIPE' : 'category'\n",
    "                     , 'B_SHAPE' : 'category'\n",
    "                     , 'TEXTURE' : 'category'\n",
    "                     , 'DENSITY' : 'float32'\n",
    "                     , 'SUGAR' : 'float32'\n",
    "                     , 'Y' : 'category'\n",
    "                 }\n",
    "                )\n",
    "df.reset_index(drop=True)\n",
    "df.head()"
   ]
  },
  {
   "cell_type": "code",
   "execution_count": 4,
   "metadata": {},
   "outputs": [
    {
     "data": {
      "text/plain": [
       "((17, 8), (17, 1))"
      ]
     },
     "execution_count": 4,
     "metadata": {},
     "output_type": "execute_result"
    }
   ],
   "source": [
    "co_le = LabelEncoder()\n",
    "ts_le = LabelEncoder()\n",
    "so_le = LabelEncoder()\n",
    "st_le = LabelEncoder()\n",
    "bs_le = LabelEncoder()\n",
    "te_le = LabelEncoder()\n",
    "y_le = LabelEncoder()\n",
    "\n",
    "x = pd.DataFrame()\n",
    "x['COLOR'] = co_le.fit_transform(df['COLOR'])\n",
    "x['T_SHAPE'] = ts_le.fit_transform(df['T_SHAPE'])\n",
    "x['SOUND'] = so_le.fit_transform(df['SOUND'])\n",
    "x['STRIPE'] = st_le.fit_transform(df['STRIPE'])\n",
    "x['B_SHAPE'] = bs_le.fit_transform(df['B_SHAPE'])\n",
    "x['TEXTURE'] = te_le.fit_transform(df['TEXTURE'])\n",
    "x['DENSITY'] = df['DENSITY']\n",
    "x['SUGAR'] = df['SUGAR']\n",
    "\n",
    "y = pd.DataFrame()\n",
    "y['Y'] = y_le.fit_transform(df['Y'])\n",
    "\n",
    "x.shape, y.shape"
   ]
  },
  {
   "cell_type": "code",
   "execution_count": 5,
   "metadata": {},
   "outputs": [
    {
     "data": {
      "text/plain": [
       "((13, 8), (4, 8), (13, 1), (4, 1))"
      ]
     },
     "execution_count": 5,
     "metadata": {},
     "output_type": "execute_result"
    }
   ],
   "source": [
    "x_train, x_test, y_train, y_test = train_test_split(x, y, test_size=0.2)\n",
    "x_train.shape, x_test.shape, y_train.shape, y_test.shape"
   ]
  },
  {
   "cell_type": "markdown",
   "metadata": {},
   "source": [
    "----"
   ]
  },
  {
   "cell_type": "markdown",
   "metadata": {},
   "source": [
    "## 1. AdaBoosting\n",
    "\n",
    "- base_estimators : 학습에 사용하는 알고리즘 (default=None → DecisionTreeClassifier(max_depth=1)가 적용)\n",
    "- n_estimators : 생성할 약한 학습기의 갯수를 지정 (default=50)\n",
    "- learning_rate : Weak learner가 순차적으로 오류 값을 보정해나갈 때 적용하는 계수 (default=1.0)"
   ]
  },
  {
   "cell_type": "code",
   "execution_count": 6,
   "metadata": {},
   "outputs": [],
   "source": [
    "from sklearn.ensemble import AdaBoostClassifier"
   ]
  },
  {
   "cell_type": "code",
   "execution_count": 7,
   "metadata": {},
   "outputs": [],
   "source": [
    "ab = AdaBoostClassifier(n_estimators=30\n",
    "                        , random_state=10\n",
    "                        , learning_rate=0.1\n",
    "                       )"
   ]
  },
  {
   "cell_type": "code",
   "execution_count": 8,
   "metadata": {
    "scrolled": true
   },
   "outputs": [
    {
     "name": "stderr",
     "output_type": "stream",
     "text": [
      "C:\\Users\\Lee\\anaconda3\\lib\\site-packages\\sklearn\\utils\\validation.py:73: DataConversionWarning: A column-vector y was passed when a 1d array was expected. Please change the shape of y to (n_samples, ), for example using ravel().\n",
      "  return f(**kwargs)\n"
     ]
    }
   ],
   "source": [
    "ab.fit(x_train, y_train)\n",
    "ab_pred = ab.predict(x_test)"
   ]
  },
  {
   "cell_type": "code",
   "execution_count": 9,
   "metadata": {},
   "outputs": [
    {
     "name": "stdout",
     "output_type": "stream",
     "text": [
      "정확도 : 0.750\n"
     ]
    }
   ],
   "source": [
    "print(\"정확도 : {0:.3f}\".format(accuracy_score(y_test, ab_pred)))"
   ]
  },
  {
   "cell_type": "code",
   "execution_count": 10,
   "metadata": {},
   "outputs": [
    {
     "name": "stdout",
     "output_type": "stream",
     "text": [
      "              precision    recall  f1-score   support\n",
      "\n",
      "           0       1.00      0.50      0.67         2\n",
      "           1       0.67      1.00      0.80         2\n",
      "\n",
      "    accuracy                           0.75         4\n",
      "   macro avg       0.83      0.75      0.73         4\n",
      "weighted avg       0.83      0.75      0.73         4\n",
      "\n"
     ]
    }
   ],
   "source": [
    "print(classification_report(y_test, ab_pred))"
   ]
  },
  {
   "cell_type": "code",
   "execution_count": 11,
   "metadata": {},
   "outputs": [
    {
     "data": {
      "image/png": "[encoded data removed]",
      "text/plain": [
       "<Figure size 576x432 with 1 Axes>"
      ]
     },
     "metadata": {
      "needs_background": "light"
     },
     "output_type": "display_data"
    }
   ],
   "source": [
    "feature_importances = ab.feature_importances_\n",
    "ft_im = pd.Series(feature_importances, index=x_train.columns)\n",
    "ft_im = ft_im.sort_values(ascending=False)\n",
    "\n",
    "plt.figure(figsize=(8, 6))\n",
    "plt.title('Ada Boosting feature importaces')\n",
    "sns.barplot(x=ft_im, y=ft_im.index)\n",
    "plt.show()"
   ]
  },
  {
   "cell_type": "markdown",
   "metadata": {},
   "source": [
    "## 2. GradientBoosting\n",
    "\n",
    "#### Tree 관련 hyperparameter\n",
    "- max_depth : 트리의 최대 깊이 (default=3 → 깊이가 깊어지면 과적합 가능성 상승)\n",
    "- min_samples_split : 노드를 분할하기 위한 최소한의 샘플 데이터수 (Default=2 → 과적합을 제어하는데 사용)\n",
    "- min_samples_leaf : 리프노드가 되기 위해 필요한 최소한의 샘플 데이터수 (default=1 → 과적합을 제어하는데 사용)\n",
    "- max_features : 최적의 분할을 위해 고려할 최대 feature 개수 (default=None → 모든 피처 사용)\n",
    "- max_leaf_nodes : 리프노드의 최대 개수 (default=None → 제한없음)\n",
    "\n",
    "#### Boosting 관련 hyperparameter\n",
    "- loss : 경사하강법에서 사용할 cost function 지정 (default=deviance)\n",
    "- n_estimators : 생성할 트리의 갯수를 지정 (default=100)\n",
    "- learning_rate : Weak learner가 순차적으로 오류 값을 보정해나갈 때 적용하는 계수 (default=0.1)\n",
    "- subsample : 개별 트리가 학습에 사용하는 데이터 샘플링 비율(0~1) (default=1 → 전체 데이터 학습)"
   ]
  },
  {
   "cell_type": "code",
   "execution_count": 12,
   "metadata": {},
   "outputs": [],
   "source": [
    "from sklearn.ensemble import GradientBoostingClassifier"
   ]
  },
  {
   "cell_type": "code",
   "execution_count": 13,
   "metadata": {},
   "outputs": [],
   "source": [
    "gb = GradientBoostingClassifier(n_estimators=30\n",
    "                                , random_state=10\n",
    "                                , learning_rate=0.1\n",
    "                               )"
   ]
  },
  {
   "cell_type": "code",
   "execution_count": 14,
   "metadata": {},
   "outputs": [
    {
     "name": "stderr",
     "output_type": "stream",
     "text": [
      "C:\\Users\\Lee\\anaconda3\\lib\\site-packages\\sklearn\\utils\\validation.py:73: DataConversionWarning: A column-vector y was passed when a 1d array was expected. Please change the shape of y to (n_samples, ), for example using ravel().\n",
      "  return f(**kwargs)\n"
     ]
    }
   ],
   "source": [
    "gb.fit(x_train, y_train)\n",
    "gb_pred = gb.predict(x_test)"
   ]
  },
  {
   "cell_type": "code",
   "execution_count": 15,
   "metadata": {},
   "outputs": [
    {
     "name": "stdout",
     "output_type": "stream",
     "text": [
      "정확도 : 0.750\n"
     ]
    }
   ],
   "source": [
    "print(\"정확도 : {0:.3f}\".format(accuracy_score(y_test, gb_pred)))"
   ]
  },
  {
   "cell_type": "code",
   "execution_count": 16,
   "metadata": {},
   "outputs": [
    {
     "name": "stdout",
     "output_type": "stream",
     "text": [
      "              precision    recall  f1-score   support\n",
      "\n",
      "           0       1.00      0.50      0.67         2\n",
      "           1       0.67      1.00      0.80         2\n",
      "\n",
      "    accuracy                           0.75         4\n",
      "   macro avg       0.83      0.75      0.73         4\n",
      "weighted avg       0.83      0.75      0.73         4\n",
      "\n"
     ]
    }
   ],
   "source": [
    "print(classification_report(y_test, gb_pred))"
   ]
  },
  {
   "cell_type": "code",
   "execution_count": 29,
   "metadata": {},
   "outputs": [
    {
     "data": {
      "image/png": "[encoded data removed]",
      "text/plain": [
       "<Figure size 576x432 with 1 Axes>"
      ]
     },
     "metadata": {
      "needs_background": "light"
     },
     "output_type": "display_data"
    }
   ],
   "source": [
    "feature_importances = gb.feature_importances_\n",
    "ft_im = pd.Series(feature_importances, index=x_train.columns)\n",
    "ft_im = ft_im.sort_values(ascending=False)\n",
    "\n",
    "plt.figure(figsize=(8, 6))\n",
    "plt.title('Gradient Boosting feature importaces')\n",
    "sns.barplot(x=ft_im, y=ft_im.index)\n",
    "plt.show()"
   ]
  },
  {
   "cell_type": "markdown",
   "metadata": {},
   "source": [
    "## 3. Bagging\n",
    "\n",
    "- base_estimators : 학습에 사용하는 알고리즘 (default=None → DecisionTreeClassifier(max_depth=1)가 적용)\n",
    "- n_estimators : 생성할 약한 학습기의 갯수를 지정 (default=50)\n",
    "- max_samples : 추정향 훈련을 위한 최소한의 샘플 데이터수 (default=1.0)\n",
    "- max_features : 최적의 분할을 위해 고려할 최대 feature 개수 (default=None → 모든 피처 사용)"
   ]
  },
  {
   "cell_type": "code",
   "execution_count": 18,
   "metadata": {},
   "outputs": [],
   "source": [
    "from sklearn.ensemble import BaggingClassifier"
   ]
  },
  {
   "cell_type": "code",
   "execution_count": 19,
   "metadata": {},
   "outputs": [],
   "source": [
    "bg = BaggingClassifier(n_estimators=30\n",
    "                        , random_state=10\n",
    "                       )"
   ]
  },
  {
   "cell_type": "code",
   "execution_count": 20,
   "metadata": {},
   "outputs": [
    {
     "name": "stderr",
     "output_type": "stream",
     "text": [
      "C:\\Users\\Lee\\anaconda3\\lib\\site-packages\\sklearn\\utils\\validation.py:73: DataConversionWarning: A column-vector y was passed when a 1d array was expected. Please change the shape of y to (n_samples, ), for example using ravel().\n",
      "  return f(**kwargs)\n"
     ]
    }
   ],
   "source": [
    "bg.fit(x_train, y_train)\n",
    "bg_pred = bg.predict(x_test)"
   ]
  },
  {
   "cell_type": "code",
   "execution_count": 21,
   "metadata": {},
   "outputs": [
    {
     "name": "stdout",
     "output_type": "stream",
     "text": [
      "정확도 : 0.750\n"
     ]
    }
   ],
   "source": [
    "print(\"정확도 : {0:.3f}\".format(accuracy_score(y_test, bg_pred)))"
   ]
  },
  {
   "cell_type": "code",
   "execution_count": 22,
   "metadata": {},
   "outputs": [
    {
     "name": "stdout",
     "output_type": "stream",
     "text": [
      "              precision    recall  f1-score   support\n",
      "\n",
      "           0       1.00      0.50      0.67         2\n",
      "           1       0.67      1.00      0.80         2\n",
      "\n",
      "    accuracy                           0.75         4\n",
      "   macro avg       0.83      0.75      0.73         4\n",
      "weighted avg       0.83      0.75      0.73         4\n",
      "\n"
     ]
    }
   ],
   "source": [
    "print(classification_report(y_test, bg_pred))"
   ]
  },
  {
   "cell_type": "markdown",
   "metadata": {},
   "source": [
    "## 4. RandomForest\n",
    "\n",
    "- max_depth : 트리의 최대 깊이 (default=3 → 깊이가 깊어지면 과적합 가능성 상승)\n",
    "- min_samples_split : 노드를 분할하기 위한 최소한의 샘플 데이터수 (Default=2 → 과적합을 제어하는데 사용)\n",
    "- min_samples_leaf : 리프노드가 되기 위해 필요한 최소한의 샘플 데이터수 (default=1 → 과적합을 제어하는데 사용)\n",
    "- max_features : 최적의 분할을 위해 고려할 최대 feature 개수 (default=None → 모든 피처 사용)\n",
    "- max_leaf_nodes : 리프노드의 최대 개수 (default=None → 제한없음)\n"
   ]
  },
  {
   "cell_type": "code",
   "execution_count": 23,
   "metadata": {},
   "outputs": [],
   "source": [
    "from sklearn.ensemble import RandomForestClassifier"
   ]
  },
  {
   "cell_type": "code",
   "execution_count": 24,
   "metadata": {},
   "outputs": [],
   "source": [
    "rf = RandomForestClassifier(n_estimators=30\n",
    "                            , random_state=10\n",
    "                            )"
   ]
  },
  {
   "cell_type": "code",
   "execution_count": 25,
   "metadata": {},
   "outputs": [
    {
     "name": "stderr",
     "output_type": "stream",
     "text": [
      "<ipython-input-25-89775bca477e>:1: DataConversionWarning: A column-vector y was passed when a 1d array was expected. Please change the shape of y to (n_samples,), for example using ravel().\n",
      "  rf.fit(x_train, y_train)\n"
     ]
    }
   ],
   "source": [
    "rf.fit(x_train, y_train)\n",
    "rf_pred = rf.predict(x_test)"
   ]
  },
  {
   "cell_type": "code",
   "execution_count": 26,
   "metadata": {},
   "outputs": [
    {
     "name": "stdout",
     "output_type": "stream",
     "text": [
      "정확도 : 0.750\n"
     ]
    }
   ],
   "source": [
    "print(\"정확도 : {0:.3f}\".format(accuracy_score(y_test, rf_pred)))"
   ]
  },
  {
   "cell_type": "code",
   "execution_count": 27,
   "metadata": {},
   "outputs": [
    {
     "name": "stdout",
     "output_type": "stream",
     "text": [
      "              precision    recall  f1-score   support\n",
      "\n",
      "           0       0.67      1.00      0.80         2\n",
      "           1       1.00      0.50      0.67         2\n",
      "\n",
      "    accuracy                           0.75         4\n",
      "   macro avg       0.83      0.75      0.73         4\n",
      "weighted avg       0.83      0.75      0.73         4\n",
      "\n"
     ]
    }
   ],
   "source": [
    "print(classification_report(y_test, rf_pred))"
   ]
  },
  {
   "cell_type": "code",
   "execution_count": 31,
   "metadata": {},
   "outputs": [
    {
     "data": {
      "image/png": "[encoded data removed]",
      "text/plain": [
       "<Figure size 576x432 with 1 Axes>"
      ]
     },
     "metadata": {
      "needs_background": "light"
     },
     "output_type": "display_data"
    }
   ],
   "source": [
    "feature_importances = rf.feature_importances_\n",
    "ft_im = pd.Series(feature_importances, index=x_train.columns)\n",
    "ft_im = ft_im.sort_values(ascending=False)\n",
    "\n",
    "plt.figure(figsize=(8, 6))\n",
    "plt.title('Random Forest feature importaces')\n",
    "sns.barplot(x=ft_im, y=ft_im.index)\n",
    "plt.show()"
   ]
  },
  {
   "cell_type": "code",
   "execution_count": null,
   "metadata": {},
   "outputs": [],
   "source": []
  }
 ],
 "metadata": {
  "kernelspec": {
   "display_name": "Python 3",
   "language": "python",
   "name": "python3"
  },
  "language_info": {
   "codemirror_mode": {
    "name": "ipython",
    "version": 3
   },
   "file_extension": ".py",
   "mimetype": "text/x-python",
   "name": "python",
   "nbconvert_exporter": "python",
   "pygments_lexer": "ipython3",
   "version": "3.8.3"
  }
 },
 "nbformat": 4,
 "nbformat_minor": 4
}
